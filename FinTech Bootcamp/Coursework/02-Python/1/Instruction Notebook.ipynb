{
 "cells": [
  {
   "cell_type": "markdown",
   "id": "dynamic-nirvana",
   "metadata": {},
   "source": [
    "# Variables"
   ]
  },
  {
   "cell_type": "code",
   "execution_count": 27,
   "id": "after-assistant",
   "metadata": {},
   "outputs": [
    {
     "name": "stdout",
     "output_type": "stream",
     "text": [
      "Frankfurter Finance\n",
      "23\n",
      "65.4\n",
      "False\n"
     ]
    }
   ],
   "source": [
    "# Create variables\n",
    "company_name = \"Frankfurter Finance\"\n",
    "years_in_business = 23\n",
    "hourly_wage = 65.40\n",
    "expert_status = False\n",
    "\n",
    "# Print the variables\n",
    "print(company_name)\n",
    "print(years_in_business)\n",
    "print(hourly_wage)\n",
    "print(expert_status)"
   ]
  },
  {
   "cell_type": "markdown",
   "id": "34987c9a-f19e-490f-8bcc-a80905101de9",
   "metadata": {},
   "source": [
    "## This is Markdown"
   ]
  },
  {
   "cell_type": "code",
   "execution_count": 28,
   "id": "olive-brand",
   "metadata": {},
   "outputs": [
    {
     "data": {
      "text/plain": [
       "'Frankfurter Finance'"
      ]
     },
     "execution_count": 28,
     "metadata": {},
     "output_type": "execute_result"
    }
   ],
   "source": [
    "company_name"
   ]
  },
  {
   "cell_type": "code",
   "execution_count": 29,
   "id": "historical-copper",
   "metadata": {},
   "outputs": [
    {
     "name": "stdout",
     "output_type": "stream",
     "text": [
      "The data type of variable title is <class 'str'>\n",
      "The data type of variable years is <class 'int'>\n",
      "The data type of variable hourly_wage is <class 'float'>\n",
      "The data type of variable expert_status is <class 'bool'>\n"
     ]
    }
   ],
   "source": [
    "# Prints the data type of each declared variable\n",
    "print(\"The data type of variable title is\", type(company_name))\n",
    "print(\"The data type of variable years is\", type(years_in_business))\n",
    "print(\"The data type of variable hourly_wage is\", type(hourly_wage))\n",
    "print(\"The data type of variable expert_status is\", type(expert_status))"
   ]
  },
  {
   "cell_type": "code",
   "execution_count": 30,
   "id": "simple-guard",
   "metadata": {},
   "outputs": [
    {
     "name": "stdout",
     "output_type": "stream",
     "text": [
      "35.6944\n",
      "The total kilometers driven was: 29.83 and the total miles are: 10\n"
     ]
    }
   ],
   "source": [
    "# Using variable names in calculations\n",
    "total_miles = 257\n",
    "gallons_gas = 7.2\n",
    "miles_per_gallon = total_miles / gallons_gas\n",
    "print(round(miles_per_gallon, 4))\n",
    "\n",
    "\n",
    "# Updating variables using assignment\n",
    "miles = 48\n",
    "kilometers = 0.621371 * miles\n",
    "\n",
    "total_miles = 10\n",
    "# Substituting/formatting variable\n",
    "message = f\"The total kilometers driven was: {round(kilometers,2)} and the total miles are: {total_miles}\"\n",
    "print(message)"
   ]
  },
  {
   "cell_type": "code",
   "execution_count": 32,
   "id": "e92bf520-1f63-407c-b48e-fa0f26d38dcf",
   "metadata": {},
   "outputs": [
    {
     "data": {
      "text/plain": [
       "8"
      ]
     },
     "execution_count": 32,
     "metadata": {},
     "output_type": "execute_result"
    }
   ],
   "source": [
    "2**3"
   ]
  },
  {
   "cell_type": "code",
   "execution_count": 33,
   "id": "4602b442-636a-4641-9023-2bd534a6b905",
   "metadata": {},
   "outputs": [
    {
     "name": "stdout",
     "output_type": "stream",
     "text": [
      "The variable name is 48\n"
     ]
    }
   ],
   "source": [
    "print(f\"The variable name is {miles}\")"
   ]
  },
  {
   "cell_type": "code",
   "execution_count": 34,
   "id": "worthy-bridges",
   "metadata": {},
   "outputs": [
    {
     "name": "stdout",
     "output_type": "stream",
     "text": [
      "Hi my name is 480\n"
     ]
    }
   ],
   "source": [
    "print(f\"Hi my name is {total_miles*miles}\")"
   ]
  },
  {
   "cell_type": "code",
   "execution_count": 35,
   "id": "owned-pittsburgh",
   "metadata": {},
   "outputs": [
    {
     "name": "stdout",
     "output_type": "stream",
     "text": [
      "26.74\n"
     ]
    }
   ],
   "source": [
    "# Two number values will be added\n",
    "transaction_1 = 11.75\n",
    "transaction_2 = 14.99\n",
    "\n",
    "total_transaction_cost = transaction_1 + transaction_2\n",
    "print(round(total_transaction_cost,2))"
   ]
  },
  {
   "cell_type": "code",
   "execution_count": 24,
   "id": "lovely-growth",
   "metadata": {},
   "outputs": [
    {
     "name": "stdout",
     "output_type": "stream",
     "text": [
      "MichelleJones\n",
      "My name is Michelle Jones.\n"
     ]
    }
   ],
   "source": [
    "# Two string values will be concatenated\n",
    "first_name = \"Michelle\"\n",
    "last_name = \"Jones\"\n",
    "\n",
    "full_name = first_name + last_name\n",
    "print(full_name)\n",
    "print(\"My name is \" + first_name    + \" \" +              last_name + \".\")"
   ]
  },
  {
   "cell_type": "code",
   "execution_count": 6,
   "id": "still-vancouver",
   "metadata": {},
   "outputs": [],
   "source": [
    "# Variable naming conventions\n",
    "# Bad Example\n",
    "mpg = 24\n",
    "\n",
    "# Better Example\n",
    "miles_per_gallon = 24"
   ]
  },
  {
   "cell_type": "markdown",
   "id": "final-jimmy",
   "metadata": {},
   "source": [
    "## Percent"
   ]
  },
  {
   "cell_type": "code",
   "execution_count": 13,
   "id": "european-suicide",
   "metadata": {},
   "outputs": [
    {
     "name": "stdout",
     "output_type": "stream",
     "text": [
      "Apple's original stock price was $198.87.\n",
      "Apple's current stock price is $254.32.\n",
      "Apple's stock price increased by 27.88%.\n"
     ]
    }
   ],
   "source": [
    "# Percent Increase Activity\n",
    "\n",
    "# Increase = Current Price - Original Price\n",
    "# Percent Increase = Increase / Original x 100\n",
    "\n",
    "# Create float variable for original_price\n",
    "original_price = 198.87\n",
    "\n",
    "# Create float variable for current_price\n",
    "current_price = 254.32\n",
    "\n",
    "# Calculate difference between current_price and original_price\n",
    "increase = current_price - original_price\n",
    "\n",
    "# Calculate percent increase\n",
    "percent_increase = (increase / original_price) * 100\n",
    "\n",
    "# Print original_price\n",
    "print(f\"Apple's original stock price was ${original_price}.\")\n",
    "\n",
    "# Print current_price\n",
    "print(f\"Apple's current stock price is ${current_price}.\")\n",
    "\n",
    "# Print percent increase\n",
    "print(f\"Apple's stock price increased by {percent_increase:.2f}%.\")"
   ]
  },
  {
   "cell_type": "markdown",
   "id": "709d5f1a-9adc-4e43-9ca4-dd6dc28d35cb",
   "metadata": {},
   "source": [
    "# Conditionals"
   ]
  },
  {
   "cell_type": "code",
   "execution_count": 47,
   "id": "89e5bde4-cf02-4759-b4c6-998eb32e869d",
   "metadata": {},
   "outputs": [
    {
     "name": "stdout",
     "output_type": "stream",
     "text": [
      "Oh no! The driver's asleep! What do we do?!\n",
      "\n",
      "\n",
      "All is good. Auto-pilot initiated.\n"
     ]
    }
   ],
   "source": [
    "# Demonstrate conditional statement\n",
    "\n",
    "# if True:\n",
    "#   Do something\n",
    "# else:\n",
    "#   Do something else\n",
    "\n",
    "# Driverless car scenario\n",
    "driverless_car = True\n",
    "\n",
    "if driverless_car == True:\n",
    "    # Do something\n",
    "    print(\"Oh no! The driver's asleep! What do we do?!\")\n",
    "    print('\\n')\n",
    "    print(\"All is good. Auto-pilot initiated.\")\n",
    "else:\n",
    "    # Do something else\n",
    "    print(\"Oh no! The driver's asleep! MAYDAY! MAYDAY!\")"
   ]
  },
  {
   "cell_type": "code",
   "execution_count": 45,
   "id": "4f280034-b56f-4470-ad5d-abbf794e96f8",
   "metadata": {},
   "outputs": [
    {
     "name": "stdout",
     "output_type": "stream",
     "text": [
      "Bring an umbrella!\n"
     ]
    }
   ],
   "source": [
    "# Demonstrate conditional with print statement\n",
    "is_raining = \"Hi\"\n",
    "\n",
    "if is_raining:\n",
    "    print(\"Bring an umbrella!\")\n",
    "else:\n",
    "    print(\"Leave the umbrella at home!\")"
   ]
  },
  {
   "cell_type": "code",
   "execution_count": null,
   "id": "320e8741-5db4-4dba-ae8f-72691ce4f8f3",
   "metadata": {},
   "outputs": [],
   "source": []
  },
  {
   "cell_type": "code",
   "execution_count": 48,
   "id": "a44f135f-575a-4e9f-af68-a9b972faf838",
   "metadata": {},
   "outputs": [
    {
     "name": "stdout",
     "output_type": "stream",
     "text": [
      "drive\n"
     ]
    }
   ],
   "source": [
    "# Variable values can be established using conditional statements.\n",
    "pedestrian = False\n",
    "\n",
    "if not pedestrian:\n",
    "    immediate_action = \"drive\"\n",
    "else:\n",
    "    immediate_action = \"stop\"\n",
    "    \n",
    "print(immediate_action)"
   ]
  },
  {
   "cell_type": "code",
   "execution_count": 53,
   "id": "f08007f2-08a6-4149-86ad-91b3e580a8c4",
   "metadata": {},
   "outputs": [],
   "source": [
    "# Conditionals can be use to evaluate equality\n",
    "x = 1.5\n",
    "if x == 1:\n",
    "    print(\"x is equal to 1\")"
   ]
  },
  {
   "cell_type": "code",
   "execution_count": 52,
   "id": "abb5ec2b-c9a4-4657-b54f-7ee21d45b032",
   "metadata": {},
   "outputs": [
    {
     "data": {
      "text/plain": [
       "True"
      ]
     },
     "execution_count": 52,
     "metadata": {},
     "output_type": "execute_result"
    }
   ],
   "source": [
    "x == 1.5"
   ]
  },
  {
   "cell_type": "code",
   "execution_count": 54,
   "id": "beb0ed65-aee2-477d-9ebd-8566d6e9663d",
   "metadata": {},
   "outputs": [],
   "source": [
    "y = 5\n",
    "if y == 1:\n",
    "    print(\"x is equal to 1\")"
   ]
  },
  {
   "cell_type": "code",
   "execution_count": 55,
   "id": "adf28276-19fd-42db-b1d2-52546e1cb81b",
   "metadata": {},
   "outputs": [
    {
     "name": "stdout",
     "output_type": "stream",
     "text": [
      "y is not equal to 1\n"
     ]
    }
   ],
   "source": [
    "# Or inequality\n",
    "z = 9\n",
    "if z != 1:\n",
    "    print(\"y is not equal to 1\")"
   ]
  },
  {
   "cell_type": "code",
   "execution_count": 58,
   "id": "1e16715c-2015-4076-b3dc-48072a74a288",
   "metadata": {},
   "outputs": [
    {
     "data": {
      "text/plain": [
       "True"
      ]
     },
     "execution_count": 58,
     "metadata": {},
     "output_type": "execute_result"
    }
   ],
   "source": [
    "x > 1"
   ]
  },
  {
   "cell_type": "code",
   "execution_count": 59,
   "id": "7792323b-9686-484e-9f5a-f4ffdf398d5d",
   "metadata": {},
   "outputs": [
    {
     "name": "stdout",
     "output_type": "stream",
     "text": [
      "Both values returned True\n"
     ]
    }
   ],
   "source": [
    "# Declare variables and values for evaluation\n",
    "x = 1\n",
    "y = 10\n",
    "\n",
    "# Multiple conditional can be utilized\n",
    "if (x == 1 or y == 11) and y == 10:\n",
    "    print(\"Both values returned True\")"
   ]
  },
  {
   "cell_type": "code",
   "execution_count": 62,
   "id": "c38aad92-98b5-4db2-b8c1-503f329fe511",
   "metadata": {},
   "outputs": [
    {
     "name": "stdout",
     "output_type": "stream",
     "text": [
      "x is less than 10 and y is greater than 5\n"
     ]
    }
   ],
   "source": [
    "# Nested if statements\n",
    "if x < 10:\n",
    "    if y < 5: \n",
    "        print(\"x is less than 10 and y is less than 5\")\n",
    "    elif y == 5:\n",
    "        print(\"x is less than 10 and y is equal to 5\")\n",
    "    else:\n",
    "        print(\"x is less than 10 and y is greater than 5\")"
   ]
  },
  {
   "cell_type": "code",
   "execution_count": 9,
   "id": "af16d3a2-e7ff-4822-a835-0dbbbccbd6b4",
   "metadata": {},
   "outputs": [
    {
     "name": "stdout",
     "output_type": "stream",
     "text": [
      "Insurance premium will increase. True or False?\n"
     ]
    }
   ],
   "source": [
    "# Nested if statements with insurance premium predictor\n",
    "accident = True\n",
    "at_fault = False\n",
    "accident_forgiveness = True\n",
    "elite_status = True\n",
    "\n",
    "increase_insurance_premium = True\n",
    "\n",
    "print(\"Insurance premium will increase. True or False?\")"
   ]
  },
  {
   "cell_type": "code",
   "execution_count": 10,
   "id": "d3e9bc56-0be6-4527-8180-e5769a94dd56",
   "metadata": {},
   "outputs": [
    {
     "name": "stdout",
     "output_type": "stream",
     "text": [
      "Prediction: False\n"
     ]
    }
   ],
   "source": [
    "# Nested Conditional Statements\n",
    "if accident:\n",
    "    if at_fault and accident_forgiveness:\n",
    "        increase_insurance_premium = False\n",
    "    elif at_fault and not accident_forgiveness and not elite_status:\n",
    "        increase_insurance_premium = True\n",
    "    else:\n",
    "        increase_insurance_premium = False\n",
    "elif not accident and elite_status:\n",
    "    increase_insurance_premium = False\n",
    "else:\n",
    "    increase_insurance_premium = True\n",
    "\n",
    "print(f\"Prediction: {increase_insurance_premium}\")"
   ]
  },
  {
   "cell_type": "markdown",
   "id": "d22d0357-3318-4e3e-b4d8-e3ee59ea848d",
   "metadata": {},
   "source": [
    "## Students Practice Conditionals"
   ]
  },
  {
   "cell_type": "code",
   "execution_count": 11,
   "id": "156e1eb6-ae9e-4483-a4b6-b10a2a8e48e1",
   "metadata": {},
   "outputs": [
    {
     "name": "stdout",
     "output_type": "stream",
     "text": [
      "Question 1 works!\n"
     ]
    }
   ],
   "source": [
    "# 1. Output: `Oooo needs some work`\n",
    "x = 5\n",
    "if 2 * x >= 10:\n",
    "    print(\"Question 1 works!\")\n",
    "else:\n",
    "    print(\"Oooo needs some work\")"
   ]
  },
  {
   "cell_type": "code",
   "execution_count": 12,
   "id": "4ef7db3c-a134-4a29-a86f-13d3661a390d",
   "metadata": {},
   "outputs": [
    {
     "name": "stdout",
     "output_type": "stream",
     "text": [
      "Question 2 works!\n"
     ]
    }
   ],
   "source": [
    "# 2. Output: `Question 2 works!`\n",
    "x = 5\n",
    "if len(\"Dog\") < len(\"Puppy\"):\n",
    "    print(\"Question 2 works!\")\n",
    "else:\n",
    "    print(\"Still missing out\")"
   ]
  },
  {
   "cell_type": "code",
   "execution_count": 13,
   "id": "54ecd284-25be-4b2a-8269-22fc68551a6f",
   "metadata": {},
   "outputs": [
    {
     "name": "stdout",
     "output_type": "stream",
     "text": [
      "You are of voting age!\n"
     ]
    }
   ],
   "source": [
    "# 3. Output: `You are of voting age!`\n",
    "age = 18\n",
    "if age > 17:\n",
    "    print(\"You are of voting age!\")\n",
    "else:\n",
    "    print(\"Argggggh! You think you can hoodwink me?! You're too young to vote!\")"
   ]
  },
  {
   "cell_type": "code",
   "execution_count": 15,
   "id": "6e199fe5-3354-4abd-a4f4-347c1297e740",
   "metadata": {},
   "outputs": [
    {
     "name": "stdout",
     "output_type": "stream",
     "text": [
      "GOT QUESTION 4!\n"
     ]
    }
   ],
   "source": [
    "# 4. Output: `GOT QUESTION 4!`\n",
    "x = 2\n",
    "y = 5\n",
    "if (x ** 3 >= y) and (y ** 2 < 26):\n",
    "    print(\"GOT QUESTION 4!\")\n",
    "else:\n",
    "    print(\"Oh good you can count\")"
   ]
  },
  {
   "cell_type": "code",
   "execution_count": 16,
   "id": "b97b8e1e-bb36-490f-9325-a9d35e8abf3a",
   "metadata": {},
   "outputs": [
    {
     "name": "stdout",
     "output_type": "stream",
     "text": [
      "Can ride bumper cars\n"
     ]
    }
   ],
   "source": [
    "# 5. Output: `Can ride bumper cars`\n",
    "height = 66\n",
    "age = 16\n",
    "adult_permission = True\n",
    "\n",
    "if (height > 70) and (age >= 18):\n",
    "    print(\"Can ride all the roller coasters\")\n",
    "elif (height > 65) and (age >= 18):\n",
    "    print(\"Can ride moderate roller coasters\")\n",
    "elif (height > 60) and (age >= 18):\n",
    "    print(\"Can ride light roller coasters\")\n",
    "elif ((height > 50) and (age >= 18)) or ((adult_permission) and (height > 50)):\n",
    "    print(\"Can ride bumper cars\")\n",
    "else:\n",
    "    print(\"Stick to lazy river\")"
   ]
  },
  {
   "cell_type": "markdown",
   "id": "2e4fa1f0-1ace-440c-b7a6-bad2d73ef5da",
   "metadata": {},
   "source": [
    "## Loops"
   ]
  },
  {
   "cell_type": "code",
   "execution_count": 73,
   "id": "08fbecbf-1ad6-4653-ad23-4641339a3108",
   "metadata": {},
   "outputs": [
    {
     "name": "stdout",
     "output_type": "stream",
     "text": [
      "1\n",
      "2\n",
      "3\n",
      "4\n",
      "5\n"
     ]
    }
   ],
   "source": [
    "# Loop through a range of numbers (0 through 4)\n",
    "for i in range(1, 6):\n",
    "    print(i)"
   ]
  },
  {
   "cell_type": "code",
   "execution_count": 66,
   "id": "0ee0c884-60d2-49a7-a397-7c24845a1053",
   "metadata": {},
   "outputs": [
    {
     "data": {
      "text/plain": [
       "4"
      ]
     },
     "execution_count": 66,
     "metadata": {},
     "output_type": "execute_result"
    }
   ],
   "source": [
    "i"
   ]
  },
  {
   "cell_type": "code",
   "execution_count": 79,
   "id": "b9e77467-e490-48d8-a57a-c5cfa03d2022",
   "metadata": {},
   "outputs": [
    {
     "name": "stdout",
     "output_type": "stream",
     "text": [
      "10\n",
      "9\n",
      "8\n",
      "7\n",
      "6\n",
      "5\n",
      "4\n",
      "3\n",
      "2\n",
      "1\n",
      "0\n"
     ]
    }
   ],
   "source": [
    "# Loop through a range of numbers (2 through 6 - yes 6! Up to, but not including, 7)\n",
    "for i in range(10, -1, -1):\n",
    "    print(i)"
   ]
  },
  {
   "cell_type": "code",
   "execution_count": 70,
   "id": "33d2e45a-de3b-43ee-9f16-bf8778429883",
   "metadata": {},
   "outputs": [
    {
     "data": {
      "text/plain": [
       "-1"
      ]
     },
     "execution_count": 70,
     "metadata": {},
     "output_type": "execute_result"
    }
   ],
   "source": [
    "x"
   ]
  },
  {
   "cell_type": "code",
   "execution_count": 80,
   "id": "b7298cf4-04ad-421f-8e28-7c3f93e69416",
   "metadata": {},
   "outputs": [
    {
     "name": "stdout",
     "output_type": "stream",
     "text": [
      "P\n",
      "e\n",
      "a\n",
      "c\n",
      "e\n"
     ]
    }
   ],
   "source": [
    "# Iterate through letters in a string\n",
    "word = \"Peace\"\n",
    "for letters in word:\n",
    "    print(letters)"
   ]
  },
  {
   "cell_type": "code",
   "execution_count": 81,
   "id": "29ee7e60-b4dd-42ff-a63b-7d3aadd23d89",
   "metadata": {},
   "outputs": [
    {
     "name": "stdout",
     "output_type": "stream",
     "text": [
      "Hi!\n"
     ]
    },
    {
     "name": "stdin",
     "output_type": "stream",
     "text": [
      "To run again. Enter 'y' y\n"
     ]
    },
    {
     "name": "stdout",
     "output_type": "stream",
     "text": [
      "Hi!\n"
     ]
    },
    {
     "name": "stdin",
     "output_type": "stream",
     "text": [
      "To run again. Enter 'y' y\n"
     ]
    },
    {
     "name": "stdout",
     "output_type": "stream",
     "text": [
      "Hi!\n"
     ]
    },
    {
     "name": "stdin",
     "output_type": "stream",
     "text": [
      "To run again. Enter 'y' y\n"
     ]
    },
    {
     "name": "stdout",
     "output_type": "stream",
     "text": [
      "Hi!\n"
     ]
    },
    {
     "name": "stdin",
     "output_type": "stream",
     "text": [
      "To run again. Enter 'y' y\n"
     ]
    },
    {
     "name": "stdout",
     "output_type": "stream",
     "text": [
      "Hi!\n"
     ]
    },
    {
     "name": "stdin",
     "output_type": "stream",
     "text": [
      "To run again. Enter 'y' y\n"
     ]
    },
    {
     "name": "stdout",
     "output_type": "stream",
     "text": [
      "Hi!\n"
     ]
    },
    {
     "name": "stdin",
     "output_type": "stream",
     "text": [
      "To run again. Enter 'y' n\n"
     ]
    }
   ],
   "source": [
    "# Loop while a condition is being met\n",
    "run = \"y\"\n",
    "\n",
    "while run == \"y\":\n",
    "    print(\"Hi!\")\n",
    "    run = input(\"To run again. Enter 'y'\")"
   ]
  },
  {
   "cell_type": "markdown",
   "id": "50d2355f-5132-4ad3-a20e-1bdb6d34e913",
   "metadata": {},
   "source": [
    "## Student Practice Loops"
   ]
  },
  {
   "cell_type": "code",
   "execution_count": 22,
   "id": "8a204057-fe31-4bb0-9319-a078b23b7a8e",
   "metadata": {},
   "outputs": [
    {
     "name": "stdout",
     "output_type": "stream",
     "text": [
      "Give me a P!\n",
      "P!\n",
      "Give me a y!\n",
      "y!\n",
      "Give me a t!\n",
      "t!\n",
      "Give me a h!\n",
      "h!\n",
      "Give me a o!\n",
      "o!\n",
      "Give me a n!\n",
      "n!\n",
      "\n",
      "What does that spell?!\n",
      "Python!\n",
      "Woohoo! Go Python!\n",
      "*\\O/**\\O/**\\O/*\n",
      "ヘ( ^o^)ノ＼(^_^ )\n"
     ]
    }
   ],
   "source": [
    "# Create a variable named cheer\n",
    "cheer = \"Python\"\n",
    "\n",
    "# Below strings can be used to add fun\n",
    "cheer_symbol = \"*\\O/*\"\n",
    "cheer_symbol_2 = \"ヘ( ^o^)ノ＼(^_^ )\"\n",
    "\n",
    "# Loop through string\n",
    "for x in cheer:\n",
    "    #Print each letter with a cheer\n",
    "    print(\"Give me a \" + x + \"!\")\n",
    "    print(x + \"!\")\n",
    "\n",
    "# Print excitement to screen\n",
    "print(\"\\nWhat does that spell?!\")\n",
    "print(cheer + \"!\\nWoohoo! Go \" + cheer + \"!\")\n",
    "print(cheer_symbol * 3)\n",
    "print(cheer_symbol_2)"
   ]
  },
  {
   "cell_type": "code",
   "execution_count": null,
   "id": "1551b032-046b-4000-a511-63223f1555a3",
   "metadata": {},
   "outputs": [],
   "source": []
  }
 ],
 "metadata": {
  "kernelspec": {
   "display_name": "Python 3 (ipykernel)",
   "language": "python",
   "name": "python3"
  },
  "language_info": {
   "codemirror_mode": {
    "name": "ipython",
    "version": 3
   },
   "file_extension": ".py",
   "mimetype": "text/x-python",
   "name": "python",
   "nbconvert_exporter": "python",
   "pygments_lexer": "ipython3",
   "version": "3.9.12"
  }
 },
 "nbformat": 4,
 "nbformat_minor": 5
}
