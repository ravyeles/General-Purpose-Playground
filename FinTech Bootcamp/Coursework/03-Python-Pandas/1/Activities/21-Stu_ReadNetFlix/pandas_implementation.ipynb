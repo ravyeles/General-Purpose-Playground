{
 "cells": [
  {
   "cell_type": "code",
   "execution_count": 8,
   "id": "03515221-21f5-4cd4-ab8d-01bcdfd7ed95",
   "metadata": {},
   "outputs": [
    {
     "name": "stdin",
     "output_type": "stream",
     "text": [
      "What Movie? Otherr\n"
     ]
    },
    {
     "name": "stdout",
     "output_type": "stream",
     "text": [
      "Movie is not there\n"
     ]
    }
   ],
   "source": [
    "from pathlib import Path\n",
    "import pandas as pd\n",
    "\n",
    "data = pd.read_csv(Path(\"Resources/netflix_ratings.csv\"))\n",
    "\n",
    "movie = input(\"What Movie?\")\n",
    "\n",
    "data_filter = data[data['title'] == movie]\n",
    "\n",
    "if data_filter.shape[0] == 0:\n",
    "    print(\"Movie is not there\")\n",
    "else:\n",
    "    display(data_filter)"
   ]
  },
  {
   "cell_type": "code",
   "execution_count": 9,
   "id": "8883c8a4-1820-4581-8ebf-e3da2b058956",
   "metadata": {},
   "outputs": [
    {
     "data": {
      "text/plain": [
       "0      False\n",
       "1      False\n",
       "2      False\n",
       "3      False\n",
       "4      False\n",
       "       ...  \n",
       "994    False\n",
       "995    False\n",
       "996    False\n",
       "997    False\n",
       "998    False\n",
       "Name: title, Length: 999, dtype: bool"
      ]
     },
     "execution_count": 9,
     "metadata": {},
     "output_type": "execute_result"
    }
   ],
   "source": [
    "data['title'] == movie"
   ]
  },
  {
   "cell_type": "code",
   "execution_count": null,
   "id": "16dcfbde-ffe6-4cd8-823e-1824f93037c1",
   "metadata": {},
   "outputs": [],
   "source": [
    "data."
   ]
  }
 ],
 "metadata": {
  "kernelspec": {
   "display_name": "Python 3 (ipykernel)",
   "language": "python",
   "name": "python3"
  },
  "language_info": {
   "codemirror_mode": {
    "name": "ipython",
    "version": 3
   },
   "file_extension": ".py",
   "mimetype": "text/x-python",
   "name": "python",
   "nbconvert_exporter": "python",
   "pygments_lexer": "ipython3",
   "version": "3.9.12"
  }
 },
 "nbformat": 4,
 "nbformat_minor": 5
}
