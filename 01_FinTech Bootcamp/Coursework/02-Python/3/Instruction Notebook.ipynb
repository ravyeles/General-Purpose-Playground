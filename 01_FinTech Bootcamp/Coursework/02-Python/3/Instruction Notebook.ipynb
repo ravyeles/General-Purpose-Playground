{
 "cells": [
  {
   "cell_type": "markdown",
   "id": "f4b8dd8b-5b59-4d35-8aa0-0ede8b8d9b77",
   "metadata": {},
   "source": [
    "## Student Refresher"
   ]
  },
  {
   "cell_type": "code",
   "execution_count": 13,
   "id": "23277006-f979-4191-9917-f8a31c5046c3",
   "metadata": {},
   "outputs": [
    {
     "name": "stdout",
     "output_type": "stream",
     "text": [
      "Hi Tom Bell! Thank you for your business of $0! You are a bronze member.\n",
      "Hi Maggie Johnson! Thank you for your business of $1032! You are a silver member.\n",
      "Hi John Spectre! Thank you for your business of $2543! You are a gold member.\n",
      "Hi Susy Simmons! Thank you for your business of $5322! You are a platinum member.\n"
     ]
    }
   ],
   "source": [
    "# List of dicts\n",
    "customers = [\n",
    "    { \"first_name\": \"Tom\", \"last_name\": \"Bell\", \"revenue\": 0 },\n",
    "    { \"first_name\": \"Maggie\", \"last_name\": \"Johnson\", \"revenue\": 1032 },\n",
    "    { \"first_name\": \"John\", \"last_name\": \"Spectre\", \"revenue\": 2543 },\n",
    "    { \"first_name\": \"Susy\", \"last_name\": \"Simmons\", \"revenue\": 5322 }\n",
    "]\n",
    "\n",
    "# Define a function that accepts a customer first_name, last_name,\n",
    "# and revenue and returns a custom greeting using the full name.\n",
    "# Use these ranges to determine the business tier (and corresponding message)\n",
    "# for each customer.\n",
    "#   Platinum = 3001+\n",
    "#   Gold = 2001-3000\n",
    "#   Silver = 1001-2000\n",
    "#   Bronze = 0-1000\n",
    "def create_greeting(first_name, last_name, revenue):\n",
    "    \"\"\"Creates a customer greeting based on revenue status.\n",
    "\n",
    "    Args:\n",
    "        first_name (str): The first name of the customer.\n",
    "        last_name (str): The last name of the customer.\n",
    "        revenue (int): The revenue of the customer.\n",
    "\n",
    "    Returns:\n",
    "        A customized greeting string.\n",
    "    \"\"\"\n",
    "\n",
    "    if revenue > 3000:\n",
    "        greeting = f\"Hi {first_name} {last_name}! Thank you for your business of ${revenue}! You are a platinum member.\"\n",
    "    elif (revenue > 2000 and revenue <= 3000):\n",
    "        greeting = f\"Hi {first_name} {last_name}! Thank you for your business of ${revenue}! You are a gold member.\"\n",
    "    elif (revenue > 1000 and revenue <= 2000):\n",
    "        greeting = f\"Hi {first_name} {last_name}! Thank you for your business of ${revenue}! You are a silver member.\"\n",
    "    elif (revenue >= 0  and revenue <= 1000):\n",
    "        greeting = f\"Hi {first_name} {last_name}! Thank you for your business of ${revenue}! You are a bronze member.\"\n",
    "\n",
    "    return greeting\n",
    "\n",
    "# Loop through the list of customers and use your function to print custom greetings for each customer.\n",
    "for customer in customers:\n",
    "    greeting = create_greeting(customer['first_name'], customer['last_name'], customer['revenue'])\n",
    "    print(greeting)"
   ]
  },
  {
   "cell_type": "markdown",
   "id": "ebc46878-28b8-4c1a-82f7-825906ad5785",
   "metadata": {},
   "source": [
    "## Time Value of Money"
   ]
  },
  {
   "cell_type": "code",
   "execution_count": 14,
   "id": "1f60a9af-9f64-4458-bc76-8d8a6ecb0a89",
   "metadata": {},
   "outputs": [
    {
     "name": "stdout",
     "output_type": "stream",
     "text": [
      "The future value of $10000 at an interest rate of 0.1 compounded 1 time(s) every year over 3 years is $13310.0\n"
     ]
    }
   ],
   "source": [
    "def calculate_future_value(present_value, interest_rate, compounding_periods, years):\n",
    "    \"\"\"\n",
    "    Calculates the future value of money given the present_value, interest rate, compounding period, and number of years.\n",
    "\n",
    "    Args:\n",
    "        present_value (float): The present value\n",
    "        interest_rate (float): The interest rate\n",
    "        periods (int): The compounding period\n",
    "        years (int): The number of years\n",
    "\n",
    "    Returns:\n",
    "        The future value of money.\n",
    "\n",
    "    \"\"\"\n",
    "\n",
    "    future_value = present_value * ((1 + (interest_rate / compounding_periods))**(compounding_periods * years))\n",
    "    future_value_formatted = round(future_value, 2)\n",
    "\n",
    "    return future_value_formatted\n",
    "\n",
    "# Set the values\n",
    "present_value = 10000\n",
    "interest_rate = .1\n",
    "compounding_periods = 1\n",
    "years = 3\n",
    "\n",
    "# Call the calculate_future_value() function\n",
    "calculated_future_value = calculate_future_value(present_value, interest_rate, compounding_periods, years)\n",
    "\n",
    "# Print out the future_value result\n",
    "print(f\"The future value of ${present_value} at an interest rate of {interest_rate} compounded {compounding_periods} time(s) every year over {years} years is ${calculated_future_value}\")"
   ]
  },
  {
   "cell_type": "markdown",
   "id": "8f2976a7-b7aa-4afc-a40b-d7e23a75e131",
   "metadata": {},
   "source": [
    "# Student Time Value of Money"
   ]
  },
  {
   "cell_type": "code",
   "execution_count": 3,
   "id": "8e387e07-2673-4b0c-8c88-13bbffcf5e73",
   "metadata": {},
   "outputs": [],
   "source": [
    "# Function to calculate present value\n",
    "def calculate_present_value(future_value, discount_rate, compounding_periods, years):\n",
    "    \"\"\"\n",
    "    Calculates the present value of money given the future_value, interest rate, compounding period, and number of years.\n",
    "    Args:\n",
    "        future_value (float): The future value\n",
    "        discount_rate (float): The interest rate\n",
    "        compounding_periods (int): The compounding period\n",
    "        time_to_maturity (int): The number of years\n",
    "    Returns:\n",
    "        The present value of money.\n",
    "    \"\"\"\n",
    "\n",
    "    present_value = future_value / (\n",
    "        (1 + (discount_rate / compounding_periods)) ** (compounding_periods * years)\n",
    "    )\n",
    "    present_value_formatted = round(present_value, 2)\n",
    "\n",
    "    return present_value_formatted"
   ]
  },
  {
   "cell_type": "code",
   "execution_count": 4,
   "id": "059a2b4b-0dd1-42dd-b462-e00eacbc07e3",
   "metadata": {},
   "outputs": [
    {
     "name": "stdout",
     "output_type": "stream",
     "text": [
      "The bond is selling at a price of $700 and is valued at $620.92.\n",
      "A premium of 79.08 exists, therefore you do not want to buy the bond.\n"
     ]
    }
   ],
   "source": [
    "# Initialize the zero-coupon bond parameters, assume compounding period is equal to 1\n",
    "price = 700\n",
    "future_value = 1000\n",
    "discount_rate = 0.1\n",
    "compounding_periods = 1\n",
    "years = 5\n",
    "\n",
    "# Call the calculate_present_value() function\n",
    "bond_value = calculate_present_value(\n",
    "    future_value, discount_rate, compounding_periods, years\n",
    ")\n",
    "\n",
    "# Determine if the bond is worth it\n",
    "if bond_value > price:\n",
    "    discount = round(bond_value - price, 2)\n",
    "    print(f\"The bond is selling at a price of ${price} and is valued at ${bond_value}.\")\n",
    "    print(f\"A discount of {discount} exists, therefore you want to buy the bond.\")\n",
    "elif bond_value < price:\n",
    "    premium = round(price - bond_value, 2)\n",
    "    print(f\"The bond is selling at a price of ${price} and is valued at ${bond_value}.\")\n",
    "    print(f\"A premium of {premium} exists, therefore you do not want to buy the bond.\")\n",
    "else:\n",
    "    print(f\"The bond is selling at a price of ${price} and is valued at ${bond_value}.\")\n",
    "    print(f\"The bond is selling at its present value, you are neutral.\")"
   ]
  },
  {
   "cell_type": "markdown",
   "id": "d2ee9fd8-7399-4e49-82e8-555009ca8bc3",
   "metadata": {},
   "source": [
    "## Imports"
   ]
  },
  {
   "cell_type": "code",
   "execution_count": 15,
   "id": "27d0797b-e85f-45e4-8026-c9d41287c56b",
   "metadata": {},
   "outputs": [
    {
     "name": "stdout",
     "output_type": "stream",
     "text": [
      "hello!\n",
      "hello!\n",
      "NPV = 267.94617853971704\n"
     ]
    }
   ],
   "source": [
    "# Call the print_hello() function via a reference to\n",
    "# the imported module functions.py\n",
    "import functions\n",
    "functions.print_hello()\n",
    "\n",
    "# Call the print_hello() function imported directly from functions.py\n",
    "from functions import print_hello\n",
    "print_hello()\n",
    "\n",
    "# Import the NumPy library\n",
    "import numpy\n",
    "\n",
    "# Import the NumPy Financial library\n",
    "import numpy_financial as npf\n",
    "\n",
    "# Initialize variables\n",
    "interest_rate = .1\n",
    "cash_flows = [-1000, 400, 400, 400, 400]\n",
    "\n",
    "#Call the NPV function from the NumPy Financial library\n",
    "net_present_value = npf.npv(interest_rate, cash_flows)\n",
    "print(f\"NPV = {net_present_value}\")"
   ]
  },
  {
   "cell_type": "markdown",
   "id": "801e99fd-63bb-46bf-9f2d-8d9082ac06eb",
   "metadata": {},
   "source": [
    "## Student Imports"
   ]
  },
  {
   "cell_type": "code",
   "execution_count": 8,
   "id": "820b17d3-1b52-4b6c-b88a-aa18fa5b41c7",
   "metadata": {},
   "outputs": [
    {
     "name": "stdout",
     "output_type": "stream",
     "text": [
      "conservative 267.94617853971704\n",
      "neutral 401.91926780957544\n",
      "aggressive 285.8923570794341\n",
      "---------------------------------------------------------\n",
      "The project scenario with the max NPV value is 'neutral' with a NPV of 401.91926780957544\n"
     ]
    }
   ],
   "source": [
    "# Import the NumPy library\n",
    "import numpy_financial as npf\n",
    "\n",
    "# Discount Rate\n",
    "discount_rate = .1\n",
    "\n",
    "# Initial Investment, Cash Flow 1, Cash Flow 2, Cash Flow 3, Cash Flow 4\n",
    "cash_flows_conservative = [-1000, 400, 400, 400, 400]\n",
    "cash_flows_neutral = [-1500, 600, 600, 600, 600]\n",
    "cash_flows_aggressive = [-2250, 800, 800, 800, 800]\n",
    "\n",
    "# Initialize dictionary to hold NPV return values\n",
    "npv_dict = {}\n",
    "\n",
    "# Calculate the NPV for each scenario\n",
    "npv_dict['conservative'] = npf.npv(discount_rate, cash_flows_conservative)\n",
    "npv_dict['neutral'] = npf.npv(discount_rate, cash_flows_neutral)\n",
    "npv_dict['aggressive'] = npf.npv(discount_rate, cash_flows_aggressive)\n",
    "\n",
    "# Initialize variables\n",
    "max_value = 0\n",
    "max_key = 0\n",
    "\n",
    "# Iterate over the dictionary and find the max key-value pair\n",
    "for key, value in npv_dict.items():\n",
    "    print(f\"{key} {value}\")\n",
    "\n",
    "    if max_value == 0:\n",
    "        max_value = value\n",
    "        max_key = key\n",
    "    elif value > max_value:\n",
    "        max_value = value\n",
    "        max_key = key\n",
    "\n",
    "# Print out the optimal project scenario with the highest NPV value\n",
    "print(\"---------------------------------------------------------\")\n",
    "print(f\"The project scenario with the max NPV value is '{max_key}' with a NPV of {max_value}\")"
   ]
  },
  {
   "cell_type": "markdown",
   "id": "25023bab-7de5-4020-a5f1-619d0288bb51",
   "metadata": {},
   "source": [
    "## I/O"
   ]
  },
  {
   "cell_type": "code",
   "execution_count": 16,
   "id": "0b3291d8-aae8-497b-9a99-62b55b7d3990",
   "metadata": {},
   "outputs": [
    {
     "name": "stdout",
     "output_type": "stream",
     "text": [
      "Current Working Directory: C:\\Users\\Vinicio.DeSola\\Documents\\CU-VIRT-FIN-PT-12-2023-U-LOLC\\02-Python\\3\n",
      "List of Best Actors:\n",
      "Nicolas Cage\n",
      "Betty White\n",
      "Gary Busey\n"
     ]
    }
   ],
   "source": [
    "# Import from the pathlib library, the main class Path\n",
    "from pathlib import Path\n",
    "\n",
    "# Check the current directory where the Python program is executing from\n",
    "print(f\"Current Working Directory: {Path.cwd()}\")\n",
    "\n",
    "# Set the path normally (Windows)\n",
    "# Set string raw literal due to backslashes acting as escape characters for\n",
    "# the Windows file = r'..\\Resources\\input.txt'\n",
    "\n",
    "# Set the path normally (Unix)\n",
    "#file = '../Resources/input.txt'\n",
    "\n",
    "# Set the input file path irregardless of OS\n",
    "filepath = Path(\"Activities/07-Ins_File_IO/Resources/input.txt\")\n",
    "\n",
    "# Open the file in \"read\" mode ('r') and store the\n",
    "# contents in the variable \"text\"\n",
    "with open(filepath, 'r') as file:\n",
    "    # Store all of the text from the file inside a variable called \"text\"\n",
    "    # and print the contexts of the text file\n",
    "    text = file.read()\n",
    "    print(text)\n",
    "\n",
    "    # Parse and print the file line by line. The print statement adds an\n",
    "    # extra line break to each line in the output.\n",
    "    line_num = 1\n",
    "    for line in file:\n",
    "        print(f\"line {line_num}: {line}\")\n",
    "        line_num += 1\n",
    "\n",
    "# Set the output file path\n",
    "output_path = Path(\"output.txt\")\n",
    "\n",
    "# Open the output_path as a file object in \"write\" mode ('w')\n",
    "# Write a header line and write the contents of 'text' to the file\n",
    "with open(output_path, 'w') as file:\n",
    "    file.write(\"This is an output file.\\n\")\n",
    "    file.write(text)"
   ]
  },
  {
   "cell_type": "markdown",
   "id": "a7f935f5-0474-4c6d-9f69-f6fd45c32154",
   "metadata": {},
   "source": [
    "## Students I/O"
   ]
  },
  {
   "cell_type": "code",
   "execution_count": 10,
   "id": "10e7eb6f-bb48-42d9-8e7b-354cf4249f2c",
   "metadata": {},
   "outputs": [
    {
     "name": "stdout",
     "output_type": "stream",
     "text": [
      "Current Working Directory: C:\\Users\\Vinicio.DeSola\\Documents\\CU-VIRT-FIN-PT-12-2023-U-LOLC\\02-Python\\3\n",
      "customer_total: 4945\n",
      "day_count: 100\n",
      "-----------------------\n",
      "daily_average: 49.45\n"
     ]
    }
   ],
   "source": [
    "# From the pathlib library, import the main class Path\n",
    "from pathlib import Path\n",
    "\n",
    "# Check the current directory where the Python program is executing from\n",
    "print(f\"Current Working Directory: {Path.cwd()}\")\n",
    "\n",
    "# Set the path using Pathlib\n",
    "file = Path('Activities/08-Stu_File_IO/Resources/customer_traffic.txt')\n",
    "\n",
    "# Initialize variables\n",
    "customer_total = 0\n",
    "day_count = 0\n",
    "\n",
    "# Open the file in \"read\" mode ('r') and\n",
    "# store the contents in the variable 'file'\n",
    "with open(file, 'r') as file:\n",
    "    # Parse the file line by line\n",
    "    for line in file:\n",
    "\n",
    "        # Convert the number in the text file from string to int\n",
    "        number = int(line)\n",
    "\n",
    "        # Sum the total and count of the numbers in the text file\n",
    "        customer_total += number\n",
    "        day_count += 1\n",
    "\n",
    "# Print out customer_total and day_count\n",
    "print(f\"customer_total: {customer_total}\")\n",
    "print(f\"day_count: {day_count}\")\n",
    "print(\"-----------------------\")\n",
    "\n",
    "# Calculate the average\n",
    "daily_average = customer_total / day_count\n",
    "print(f\"daily_average: {daily_average}\")\n",
    "\n",
    "# Set output file name\n",
    "output_path = 'output.txt'\n",
    "\n",
    "# Open the output path as a file object\n",
    "with open(output_path, 'w') as file:\n",
    "    # Write daily_average to the output file, convert to string\n",
    "    file.write(f\"There were {customer_total} customers over the course of {day_count} days.\\n\")\n",
    "    file.write(f\"The average daily customer traffic is {daily_average} customers per day.\")\n"
   ]
  },
  {
   "cell_type": "markdown",
   "id": "92511986-c516-4247-8881-f52f3575214c",
   "metadata": {},
   "source": [
    "## CSV"
   ]
  },
  {
   "cell_type": "code",
   "execution_count": 18,
   "id": "9b941da1-6ca2-48f3-b794-3805692fc6a2",
   "metadata": {},
   "outputs": [
    {
     "name": "stdout",
     "output_type": "stream",
     "text": [
      "<class '_io.TextIOWrapper'>\n",
      "<class '_csv.reader'>\n",
      "['First Name', 'Last Name', 'SSN', 'Salary'] <---- HEADER\n",
      "['Tina', 'Fleming', '619-16-7988', '75000']\n",
      "['Erica', 'Shah', '164-51-7615', '40000']\n",
      "['Paula', 'Ortiz', '051-83-3290', '120000']\n",
      "['James', 'Hendricks', '776-83-2884', '90000']\n",
      "['Lauren', 'King', '197-94-2398', '60000']\n",
      "['David', 'Cowan', '252-92-1832', '35000']\n",
      "['Andrew', 'Burton', '296-23-6842', '150000']\n",
      "['Julian', 'Baker', '337-40-7543', '75000']\n",
      "['Scott', 'Castro', '399-46-5595', '50000']\n",
      "['Billy', 'Rodriguez', '014-18-2503', '65000']\n",
      "['Darrell', 'Leblanc', '005-82-7918', '40000']\n",
      "['David', 'Hammond', '561-17-6312', '90000']\n",
      "150000 35000 74166.67\n"
     ]
    }
   ],
   "source": [
    "# Import the pathlib and csv library\n",
    "from pathlib import Path\n",
    "import csv\n",
    "\n",
    "# Set the file path\n",
    "csvpath = Path('Activities/09-Ins_CSV_Reader/Resources/accounting.csv')\n",
    "\n",
    "# Initialize variable to hold salaries\n",
    "salaries = []\n",
    "\n",
    "# Initialize line_num variable\n",
    "line_num = 0\n",
    "\n",
    "# Open the input path as a file object\n",
    "with open(csvpath, 'r') as csvfile:\n",
    "\n",
    "    # Print the datatype of the file object\n",
    "    print(type(csvfile))\n",
    "\n",
    "    # Pass in the csv file to the csv.reader() function\n",
    "    # (with ',' as the delmiter/separator) and return the csvreader object\n",
    "    csvreader = csv.reader(csvfile, delimiter=',')\n",
    "    # Print the datatype of the csvreader\n",
    "    print(type(csvreader))\n",
    "\n",
    "    # Go to the next row from the start of the file\n",
    "    # (which is often the first row/header) and iterate line_num by 1\n",
    "    header = next(csvreader)\n",
    "    line_num += 1\n",
    "    # Print the header\n",
    "    print(f\"{header} <---- HEADER\")\n",
    "\n",
    "    # Read each row of data after the header\n",
    "    for row in csvreader:\n",
    "        # Print the row\n",
    "        print(row)\n",
    "        # Set salary variable equal to the value in the 4th column of each row\n",
    "        salary = int(row[3])\n",
    "        # Append the row salary value to the list of salaries\n",
    "        salaries.append(salary)\n",
    "\n",
    "# Initialize metric variables\n",
    "max_salary = 0\n",
    "min_salary = 0\n",
    "avg_salary = 0\n",
    "total_salary = 0\n",
    "count_salary = 0\n",
    "\n",
    "# Calculate the max, mean, and average of the list of salaries\n",
    "for salary in salaries:\n",
    "\n",
    "    # Sum the total and count variables\n",
    "    total_salary += salary\n",
    "    count_salary += 1\n",
    "\n",
    "    # Logic to determine min and max salaries\n",
    "    if min_salary == 0:\n",
    "        min_salary = salary\n",
    "    elif salary > max_salary:\n",
    "        max_salary = salary\n",
    "    elif salary < min_salary:\n",
    "        min_salary = salary\n",
    "\n",
    "# Calculate the average salary, round to the nearest 2 decimal places\n",
    "avg_salary = round(total_salary / count_salary, 2)\n",
    "\n",
    "# Print the metrics\n",
    "print(max_salary, min_salary, avg_salary)\n",
    "\n",
    "# Set the output header\n",
    "header = [\"Max_Salary\", \"Min_Salary\", \"Avg_Salary\"]\n",
    "# Create a list of metrics\n",
    "metrics = [max_salary, min_salary, avg_salary]\n",
    "\n",
    "# Set the output file path\n",
    "output_path = Path('output.csv')\n",
    "\n",
    "# Open the output path as a file object\n",
    "with open(output_path, 'w') as csvfile:\n",
    "    # Set the file object as a csvwriter object\n",
    "    csvwriter = csv.writer(csvfile, delimiter=',')\n",
    "    # Write the header to the output file\n",
    "    csvwriter.writerow(header)\n",
    "    # Write the list of metrics to the output file\n",
    "    csvwriter.writerow(metrics)\n"
   ]
  },
  {
   "cell_type": "code",
   "execution_count": 20,
   "id": "08cbb803-d195-4ce3-b35f-44b31d6dc0f5",
   "metadata": {},
   "outputs": [
    {
     "data": {
      "text/html": [
       "<div>\n",
       "<style scoped>\n",
       "    .dataframe tbody tr th:only-of-type {\n",
       "        vertical-align: middle;\n",
       "    }\n",
       "\n",
       "    .dataframe tbody tr th {\n",
       "        vertical-align: top;\n",
       "    }\n",
       "\n",
       "    .dataframe thead th {\n",
       "        text-align: right;\n",
       "    }\n",
       "</style>\n",
       "<table border=\"1\" class=\"dataframe\">\n",
       "  <thead>\n",
       "    <tr style=\"text-align: right;\">\n",
       "      <th></th>\n",
       "      <th>Salary</th>\n",
       "    </tr>\n",
       "  </thead>\n",
       "  <tbody>\n",
       "    <tr>\n",
       "      <th>count</th>\n",
       "      <td>12.000000</td>\n",
       "    </tr>\n",
       "    <tr>\n",
       "      <th>mean</th>\n",
       "      <td>74166.666667</td>\n",
       "    </tr>\n",
       "    <tr>\n",
       "      <th>std</th>\n",
       "      <td>34498.572654</td>\n",
       "    </tr>\n",
       "    <tr>\n",
       "      <th>min</th>\n",
       "      <td>35000.000000</td>\n",
       "    </tr>\n",
       "    <tr>\n",
       "      <th>25%</th>\n",
       "      <td>47500.000000</td>\n",
       "    </tr>\n",
       "    <tr>\n",
       "      <th>50%</th>\n",
       "      <td>70000.000000</td>\n",
       "    </tr>\n",
       "    <tr>\n",
       "      <th>75%</th>\n",
       "      <td>90000.000000</td>\n",
       "    </tr>\n",
       "    <tr>\n",
       "      <th>max</th>\n",
       "      <td>150000.000000</td>\n",
       "    </tr>\n",
       "  </tbody>\n",
       "</table>\n",
       "</div>"
      ],
      "text/plain": [
       "              Salary\n",
       "count      12.000000\n",
       "mean    74166.666667\n",
       "std     34498.572654\n",
       "min     35000.000000\n",
       "25%     47500.000000\n",
       "50%     70000.000000\n",
       "75%     90000.000000\n",
       "max    150000.000000"
      ]
     },
     "execution_count": 20,
     "metadata": {},
     "output_type": "execute_result"
    }
   ],
   "source": [
    "import pandas as pd\n",
    "pd.read_csv(csvpath).describe()"
   ]
  },
  {
   "cell_type": "markdown",
   "id": "e0f508d0-fcc8-4cf2-87dc-000a217c59e2",
   "metadata": {},
   "source": [
    "## Student CSV"
   ]
  },
  {
   "cell_type": "code",
   "execution_count": 12,
   "id": "2d922fec-cebe-4887-8ca9-ab102feb8936",
   "metadata": {},
   "outputs": [
    {
     "name": "stdout",
     "output_type": "stream",
     "text": [
      "['Name', 'Count', 'Revenue']\n",
      "['Andrew', '9', '58']\n",
      "['Phil', '8', '377']\n",
      "['Madison', '5', '302']\n",
      "['Sally', '1', '75']\n",
      "['Tyler', '1', '334']\n",
      "['Billy', '7', '146']\n",
      "['Steve', '1', '178']\n",
      "['Madison', '7', '313']\n",
      "['Sarah', '8', '103']\n",
      "['Tim', '5', '344']\n",
      "['Andrew', '5', '349']\n",
      "['Phil', '8', '61']\n",
      "['Madison', '4', '196']\n",
      "['Carl', '1', '374']\n",
      "['Devon', '9', '220']\n",
      "['Megan', '9', '321']\n",
      "['Sarah', '7', '277']\n",
      "['David', '2', '246']\n",
      "['Sally', '9', '198']\n",
      "['Tom', '5', '221']\n",
      "['Andrew', '1', '191']\n",
      "['Paul', '5', '399']\n",
      "['Carl', '1', '300']\n",
      "['Tim', '1', '345']\n",
      "['Madison', '4', '202']\n",
      "['John', '4', '305']\n",
      "['Phil', '6', '249']\n",
      "['Madison', '7', '113']\n",
      "['Sally', '6', '256']\n"
     ]
    }
   ],
   "source": [
    "# Import the pathlib and csv library\n",
    "from pathlib import Path\n",
    "import csv\n",
    "\n",
    "# Set the file path\n",
    "csvpath = Path(\"Activities/10-Stu_CSV_Reader/Resources/sales.csv\")\n",
    "\n",
    "# Initialize dictionary\n",
    "analysis = {}\n",
    "\n",
    "# Open the csv file as an object\n",
    "with open(csvpath, \"r\") as csvfile:\n",
    "\n",
    "    # Pass in the csv file to the csv.reader() function\n",
    "    # (with ',' as the delmiter/separator) and return the csvreader object\n",
    "    csvreader = csv.reader(csvfile, delimiter=\",\")\n",
    "\n",
    "    # Read the header row first (skip this step if there is no header)\n",
    "    csv_header = next(csvreader)\n",
    "    # Print the header\n",
    "    print(csv_header)\n",
    "\n",
    "    # Read each row of data after the header\n",
    "    for row in csvreader:\n",
    "        # Print the row\n",
    "        print(row)\n",
    "\n",
    "        # Set the 'name', 'count', and 'revenue' variables for better\n",
    "        # readability, convert strings to ints for numerical calculations\n",
    "        name = row[0]\n",
    "        count = int(row[1])\n",
    "        revenue = int(row[2])\n",
    "\n",
    "        # Calculate the average and round to the nearest 2 decimal places\n",
    "        average = round(revenue / count, 2)\n",
    "\n",
    "        # If name is not already in the analysis dict, initialize the dictionary\n",
    "        # Else continue to add to the existing key and nested key-value pairs\n",
    "        if name not in analysis.keys():\n",
    "            analysis[name] = {\"count\": count, \"revenue\": revenue}\n",
    "        else:\n",
    "            analysis[name][\"count\"] += count\n",
    "            analysis[name][\"revenue\"] += revenue\n",
    "\n",
    "# Set the header for aggregate.csv\n",
    "header = [\"Name\", \"Count\", \"Revenue\", \"Average\"]\n",
    "\n",
    "# Set the path for the aggregate.csv\n",
    "aggregate_path = Path(\"aggregate.csv\")\n",
    "\n",
    "# Open the output path as a file and pass into the 'csv.writer()' function\n",
    "# Set the delimiter/separater as a ','\n",
    "with open(aggregate_path, \"w\") as csvfile:\n",
    "    csvwriter = csv.writer(csvfile, delimiter=\",\")\n",
    "\n",
    "    # Write the header as the first row\n",
    "    csvwriter.writerow(header)\n",
    "\n",
    "    # Loop over every key in analysis and write the associated key (name) and\n",
    "    # nested key-value pairs (metrics)\n",
    "    for name in analysis:\n",
    "        csvwriter.writerow(\n",
    "            [\n",
    "                name,\n",
    "                analysis[name][\"count\"],\n",
    "                analysis[name][\"revenue\"],\n",
    "                round(analysis[name][\"revenue\"] / analysis[name][\"count\"], 2),\n",
    "            ]\n",
    "        )\n"
   ]
  },
  {
   "cell_type": "code",
   "execution_count": 20,
   "id": "beeb5dc2-5bca-4ffc-a42f-0729bce6a198",
   "metadata": {},
   "outputs": [
    {
     "data": {
      "text/plain": [
       "array([4])"
      ]
     },
     "execution_count": 20,
     "metadata": {},
     "output_type": "execute_result"
    }
   ],
   "source": [
    "import numpy as np\n",
    "import time\n",
    "\n",
    "time.sleep(1)\n",
    "np.random.choice([1,2,3,4,5], 1, p = [0.01, 0.01, 0.01, 0.96, 0.01])"
   ]
  },
  {
   "cell_type": "code",
   "execution_count": null,
   "id": "f7b4ffa4-a17d-43f2-8c60-b52534ca12ce",
   "metadata": {},
   "outputs": [],
   "source": []
  }
 ],
 "metadata": {
  "kernelspec": {
   "display_name": "Python 3 (ipykernel)",
   "language": "python",
   "name": "python3"
  },
  "language_info": {
   "codemirror_mode": {
    "name": "ipython",
    "version": 3
   },
   "file_extension": ".py",
   "mimetype": "text/x-python",
   "name": "python",
   "nbconvert_exporter": "python",
   "pygments_lexer": "ipython3",
   "version": "3.9.12"
  }
 },
 "nbformat": 4,
 "nbformat_minor": 5
}
