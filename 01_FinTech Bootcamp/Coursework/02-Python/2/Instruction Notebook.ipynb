{
 "cells": [
  {
   "cell_type": "markdown",
   "id": "41384a29-2e78-4b37-9b06-304a001494af",
   "metadata": {},
   "source": [
    "## Lists"
   ]
  },
  {
   "cell_type": "code",
   "execution_count": 1,
   "id": "b27a4c16-e1f5-4ef5-a4e3-251c1d3f83f5",
   "metadata": {},
   "outputs": [
    {
     "name": "stdout",
     "output_type": "stream",
     "text": [
      "Give me a P!\n",
      "P!\n",
      "Give me a y!\n",
      "y!\n",
      "Give me a t!\n",
      "t!\n",
      "Give me a h!\n",
      "h!\n",
      "Give me a o!\n",
      "o!\n",
      "Give me a n!\n",
      "n!\n",
      "\n",
      "What does that spell?!\n",
      "Python!\n",
      "Woohoo! Go Python!\n",
      "*\\O/**\\O/**\\O/*\n",
      "ヘ( ^o^)ノ＼(^_^ )\n",
      "\n",
      "Give me a F!\n",
      "F!\n",
      "Give me a i!\n",
      "i!\n",
      "Give me a n!\n",
      "n!\n",
      "Give me a T!\n",
      "T!\n",
      "Give me a e!\n",
      "e!\n",
      "Give me a c!\n",
      "c!\n",
      "Give me a h!\n",
      "h!\n",
      "\n",
      "What does that spell?!\n",
      "FinTech!\n",
      "Woohoo! Go FinTech!\n",
      "*\\O/**\\O/**\\O/*\n",
      "ヘ( ^o^)ノ＼(^_^ )\n",
      "\n",
      "Give me a M!\n",
      "M!\n",
      "Give me a o!\n",
      "o!\n",
      "Give me a n!\n",
      "n!\n",
      "Give me a e!\n",
      "e!\n",
      "Give me a y!\n",
      "y!\n",
      "\n",
      "What does that spell?!\n",
      "Money!\n",
      "Woohoo! Go Money!\n",
      "*\\O/**\\O/**\\O/*\n",
      "ヘ( ^o^)ノ＼(^_^ )\n",
      "\n"
     ]
    }
   ],
   "source": [
    "# Cheer-leading python exercise\n",
    "# Create a variable named cheer\n",
    "cheer = [\"Python\", \"FinTech\",\"Money\"]\n",
    "\n",
    "# Below strings can be used to add fun\n",
    "cheer_symbol = \"*\\O/*\"\n",
    "cheer_symbol_2 = \"ヘ( ^o^)ノ＼(^_^ )\"\n",
    "\n",
    "# Loop through string\n",
    "for i in range(len(cheer)):\n",
    "    for x in cheer[i]:\n",
    "        #Print each letter with a cheer\n",
    "        print(\"Give me a \" + x + \"!\")\n",
    "        print(x + \"!\")\n",
    "\n",
    "    # Print excitement to screen\n",
    "    print(\"\\nWhat does that spell?!\")\n",
    "    print(cheer[i] + \"!\\nWoohoo! Go \" + cheer[i] + \"!\")\n",
    "    print(cheer_symbol * 3)\n",
    "    print(cheer_symbol_2)\n",
    "    print()"
   ]
  },
  {
   "cell_type": "code",
   "execution_count": 58,
   "id": "16c6ca72-22a8-4b3b-a9b1-21a12ca70c04",
   "metadata": {},
   "outputs": [
    {
     "name": "stdout",
     "output_type": "stream",
     "text": [
      "Creating a list of Pokemon...\n",
      "['Pikachu', 'Charizard', 'Bulbasaur', 'Gyarados', 'Dragonite', 'Onyx']\n"
     ]
    }
   ],
   "source": [
    "# Create a list of Pokemon\n",
    "print(\"Creating a list of Pokemon...\")\n",
    "pokemon = [\"Pikachu\", \"Charizard\", \"Bulbasaur\", \"Gyarados\", \"Dragonite\", \"Onyx\"]\n",
    "print(pokemon)"
   ]
  },
  {
   "cell_type": "code",
   "execution_count": 70,
   "id": "01a21e3a-4375-4610-bad1-27b112098e26",
   "metadata": {},
   "outputs": [
    {
     "name": "stdout",
     "output_type": "stream",
     "text": [
      "Printing the third Pokemon...\n",
      "Bulbasaur Onyx\n"
     ]
    }
   ],
   "source": [
    "# Print element at index 2\n",
    "print(\"Printing the third Pokemon...\")\n",
    "print(pokemon[2])"
   ]
  },
  {
   "cell_type": "code",
   "execution_count": 62,
   "id": "40a7432f-3ba4-4841-8799-366515714cc8",
   "metadata": {},
   "outputs": [
    {
     "name": "stdout",
     "output_type": "stream",
     "text": [
      "Printing 3rd Pokemon to the 5th Pokemon...\n",
      "['Bulbasaur', 'Gyarados', 'Dragonite']\n"
     ]
    }
   ],
   "source": [
    "# Print elements from index 2 to index 5\n",
    "print(\"Printing 3rd Pokemon to the 5th Pokemon...\")\n",
    "print(pokemon[2:5])"
   ]
  },
  {
   "cell_type": "code",
   "execution_count": 63,
   "id": "92176b7f-e73c-4dd9-8b70-49b585c0ccd8",
   "metadata": {},
   "outputs": [
    {
     "name": "stdout",
     "output_type": "stream",
     "text": [
      "Printing every Pokemon after the first three...\n",
      "['Gyarados', 'Dragonite', 'Onyx']\n"
     ]
    }
   ],
   "source": [
    "# Print elements from index 3 to the end of the list\n",
    "print(\"Printing every Pokemon after the first three...\")\n",
    "print(pokemon[3:])"
   ]
  },
  {
   "cell_type": "code",
   "execution_count": 64,
   "id": "eb5214cd-e9fb-434d-a4ae-026ad667d4e8",
   "metadata": {},
   "outputs": [
    {
     "name": "stdout",
     "output_type": "stream",
     "text": [
      "Printing every Pokemon up to the first three...\n",
      "['Pikachu', 'Charizard', 'Bulbasaur']\n"
     ]
    }
   ],
   "source": [
    "# Print elements from beginning of list to index 3\n",
    "print(\"Printing every Pokemon up to the first three...\")\n",
    "print(pokemon[:3])"
   ]
  },
  {
   "cell_type": "code",
   "execution_count": 65,
   "id": "5cd2accd-a706-43fd-ae07-242ca275ad95",
   "metadata": {},
   "outputs": [
    {
     "name": "stdout",
     "output_type": "stream",
     "text": [
      "Printing every other Pokemon\n",
      "['Pikachu', 'Bulbasaur', 'Dragonite']\n"
     ]
    }
   ],
   "source": [
    "# Print every other element\n",
    "print(\"Printing every other Pokemon\")\n",
    "print(pokemon[::2])"
   ]
  },
  {
   "cell_type": "code",
   "execution_count": 66,
   "id": "1213a76a-adac-4dd4-b5ed-2026860f2587",
   "metadata": {},
   "outputs": [
    {
     "name": "stdout",
     "output_type": "stream",
     "text": [
      "Printing the last Pokemon on the list...\n",
      "Onyx\n"
     ]
    }
   ],
   "source": [
    "# Print the last element of the list\n",
    "print(\"Printing the last Pokemon on the list...\")\n",
    "last_pokemon = pokemon[-1]\n",
    "print(last_pokemon)"
   ]
  },
  {
   "cell_type": "code",
   "execution_count": 67,
   "id": "ac3e84b0-e506-4029-aa36-143b623ac385",
   "metadata": {},
   "outputs": [
    {
     "name": "stdout",
     "output_type": "stream",
     "text": [
      "Determining the order of Pokemon 'Gyarados'...\n",
      "['Pikachu', 'Charizard', 'Bulbasaur', 'Gyarados', 'Dragonite', 'Onyx']\n",
      "3\n"
     ]
    }
   ],
   "source": [
    "# Find the index of the particular element name\n",
    "print(\"Determining the order of Pokemon 'Gyarados'...\")\n",
    "print(pokemon)\n",
    "print(pokemon.index(\"Gyarados\"))"
   ]
  },
  {
   "cell_type": "code",
   "execution_count": 71,
   "id": "191d70fa-3c97-4e97-9fcc-338442ca86ff",
   "metadata": {},
   "outputs": [
    {
     "name": "stdout",
     "output_type": "stream",
     "text": [
      "Changing Pokemon name 'Pikachu' to 'Raichu'...\n",
      "['Raichu', 'Charizard', 'Bulbasaur', 'Gyarados', 'Dragonite', 'Onyx']\n"
     ]
    }
   ],
   "source": [
    "# Change a specified element within the list at the given index\n",
    "print(\"Changing Pokemon name 'Pikachu' to 'Raichu'...\")\n",
    "pokemon[0] = \"Raichu\"\n",
    "print(pokemon)"
   ]
  },
  {
   "cell_type": "code",
   "execution_count": 72,
   "id": "987da7b3-f4fa-4661-bbac-87ebc736c5ad",
   "metadata": {},
   "outputs": [
    {
     "name": "stdout",
     "output_type": "stream",
     "text": [
      "Adding a new Pokemon to the end of the list...\n",
      "['Raichu', 'Charizard', 'Bulbasaur', 'Gyarados', 'Dragonite', 'Onyx', 'Magikarp']\n"
     ]
    }
   ],
   "source": [
    "# Add an element to the end of the list\n",
    "print(\"Adding a new Pokemon to the end of the list...\")\n",
    "pokemon.append(\"Magikarp\")\n",
    "print(pokemon)"
   ]
  },
  {
   "cell_type": "code",
   "execution_count": 73,
   "id": "9fb35a71-2d04-45d8-800e-9ccb388482e8",
   "metadata": {},
   "outputs": [
    {
     "name": "stdout",
     "output_type": "stream",
     "text": [
      "Removing employee 'Magikarp'...\n",
      "['Raichu', 'Charizard', 'Bulbasaur', 'Gyarados', 'Dragonite', 'Onyx']\n"
     ]
    }
   ],
   "source": [
    "# Remove an element from the list based on the given element name\n",
    "print(\"Removing employee 'Magikarp'...\")\n",
    "pokemon.remove(\"Magikarp\")\n",
    "print(pokemon)"
   ]
  },
  {
   "cell_type": "code",
   "execution_count": 74,
   "id": "ff82d1d5-670a-4495-a03f-8246701f7b33",
   "metadata": {},
   "outputs": [
    {
     "name": "stdout",
     "output_type": "stream",
     "text": [
      "Removing employee 'Bulbasaur' based off of its index\n",
      "['Raichu', 'Charizard', 'Gyarados', 'Dragonite', 'Onyx']\n"
     ]
    }
   ],
   "source": [
    "# Remove an element from the list based on the given index\n",
    "print(\"Removing employee 'Bulbasaur' based off of its index\")\n",
    "bulbasaur_index = pokemon.index(\"Bulbasaur\")\n",
    "pokemon.pop(bulbasaur_index)\n",
    "print(pokemon)"
   ]
  },
  {
   "cell_type": "code",
   "execution_count": 75,
   "id": "0681ec95-92e5-4c67-9df4-222ebed55d2b",
   "metadata": {},
   "outputs": [
    {
     "name": "stdout",
     "output_type": "stream",
     "text": [
      "Calculating the number of Pokemon...\n",
      "5\n"
     ]
    }
   ],
   "source": [
    "# Calculate the number of elements within the list\n",
    "print(\"Calculating the number of Pokemon...\")\n",
    "print(len(pokemon))"
   ]
  },
  {
   "cell_type": "markdown",
   "id": "faa88159-a621-490f-8d1b-a02ee32eb45b",
   "metadata": {},
   "source": [
    "## Student Lists"
   ]
  },
  {
   "cell_type": "code",
   "execution_count": 16,
   "id": "724ead91-25ab-41ad-9ba5-87abfd1af12a",
   "metadata": {},
   "outputs": [
    {
     "name": "stdout",
     "output_type": "stream",
     "text": [
      "My list of groceries:\n",
      "['water', 'butter', 'eggs', 'apples', 'cinnamon', 'sugar', 'milk']\n"
     ]
    }
   ],
   "source": [
    "# Create a list of groceries\n",
    "print(\"My list of groceries:\")\n",
    "groceries = [\"water\", \"butter\", \"eggs\", \"apples\", \"cinnamon\", \"sugar\", \"milk\"]\n",
    "print(groceries)"
   ]
  },
  {
   "cell_type": "code",
   "execution_count": 17,
   "id": "8fd86ee8-7c26-455d-a00a-01577c4d6f90",
   "metadata": {},
   "outputs": [
    {
     "name": "stdout",
     "output_type": "stream",
     "text": [
      "What are my first two items on the list?\n",
      "['water', 'butter']\n"
     ]
    }
   ],
   "source": [
    "# Find the first two items on the list\n",
    "print(\"What are my first two items on the list?\")\n",
    "print(groceries[:2])"
   ]
  },
  {
   "cell_type": "code",
   "execution_count": 18,
   "id": "f636aa94-4830-4ead-ac14-6dab070c9922",
   "metadata": {},
   "outputs": [
    {
     "name": "stdout",
     "output_type": "stream",
     "text": [
      "What are all my items except for the first two on the list?\n",
      "['eggs', 'apples', 'cinnamon', 'sugar', 'milk']\n"
     ]
    }
   ],
   "source": [
    "# Find the last five items on the list\n",
    "print(\"What are all my items except for the first two on the list?\")\n",
    "print(groceries[2:])"
   ]
  },
  {
   "cell_type": "code",
   "execution_count": 19,
   "id": "23c40197-b15e-4841-bb5e-6441c1bed71c",
   "metadata": {},
   "outputs": [
    {
     "name": "stdout",
     "output_type": "stream",
     "text": [
      "What is every other item on the list, starting from the second item?\n",
      "['butter', 'apples', 'sugar']\n"
     ]
    }
   ],
   "source": [
    "# Find every other item on the list, starting from the second item\n",
    "print(\"What is every other item on the list, starting from the second item?\")\n",
    "print(groceries[1::2])"
   ]
  },
  {
   "cell_type": "code",
   "execution_count": 20,
   "id": "4137ed05-bcd7-4990-8d8c-d26f03651b7a",
   "metadata": {},
   "outputs": [
    {
     "name": "stdout",
     "output_type": "stream",
     "text": [
      "Oops, forgot to add flour...\n",
      "['water', 'butter', 'eggs', 'apples', 'cinnamon', 'sugar', 'milk', 'flour']\n"
     ]
    }
   ],
   "source": [
    "# Add an element to the end of the list\n",
    "print(\"Oops, forgot to add flour...\")\n",
    "groceries.append(\"flour\")\n",
    "print(groceries)"
   ]
  },
  {
   "cell_type": "code",
   "execution_count": 21,
   "id": "fd3844e6-4095-4a4a-8b83-4ae8eee4cd41",
   "metadata": {},
   "outputs": [
    {
     "name": "stdout",
     "output_type": "stream",
     "text": [
      "I should be more specific with what kind of apples I want...\n",
      "['water', 'butter', 'eggs', 'gala apples', 'cinnamon', 'sugar', 'milk', 'flour']\n"
     ]
    }
   ],
   "source": [
    "# Changes a specified element within the list at the given index\n",
    "print(\"I should be more specific with what kind of apples I want...\")\n",
    "groceries[3] = \"gala apples\"\n",
    "print(groceries)"
   ]
  },
  {
   "cell_type": "code",
   "execution_count": 22,
   "id": "0de1ad1c-b7b5-468d-ba15-29f6b27e250d",
   "metadata": {},
   "outputs": [
    {
     "name": "stdout",
     "output_type": "stream",
     "text": [
      "How many items do I have on my shopping list?\n",
      "8\n"
     ]
    }
   ],
   "source": [
    "# Calculate how many items you have in the list\n",
    "print(\"How many items do I have on my shopping list?\")\n",
    "print(len(groceries))"
   ]
  },
  {
   "cell_type": "code",
   "execution_count": 23,
   "id": "1eb9b8e0-a400-40b9-a5ca-6ae95dc74191",
   "metadata": {},
   "outputs": [
    {
     "name": "stdout",
     "output_type": "stream",
     "text": [
      "Where is 'gala apples' in the list index?\n",
      "['water', 'butter', 'eggs', 'gala apples', 'cinnamon', 'sugar', 'milk', 'flour']\n",
      "3\n"
     ]
    }
   ],
   "source": [
    "# ----------------------Go to the grocery store---------------------------\")\n",
    "# Find the index of the particular element name\n",
    "print(\"Where is 'gala apples' in the list index?\")\n",
    "print(groceries)\n",
    "print(groceries.index(\"gala apples\"))"
   ]
  },
  {
   "cell_type": "code",
   "execution_count": 24,
   "id": "7a19ee3c-a2ea-4cce-a5f6-160fb2f4d39c",
   "metadata": {},
   "outputs": [
    {
     "name": "stdout",
     "output_type": "stream",
     "text": [
      "Picked up some sugar!\n",
      "['water', 'butter', 'eggs', 'gala apples', 'cinnamon', 'milk', 'flour']\n"
     ]
    }
   ],
   "source": [
    "# Remove an element from the list based on the given element name\n",
    "print(\"Picked up some sugar!\")\n",
    "groceries.remove(\"sugar\")\n",
    "print(groceries)"
   ]
  },
  {
   "cell_type": "code",
   "execution_count": 25,
   "id": "68d66b7d-e77e-4e9a-a6cd-0e33c678af37",
   "metadata": {},
   "outputs": [
    {
     "name": "stdout",
     "output_type": "stream",
     "text": [
      "Actually, I don't need water. I have some at home...\n",
      "['butter', 'eggs', 'gala apples', 'cinnamon', 'milk', 'flour']\n"
     ]
    }
   ],
   "source": [
    "# Remove an element from the list based on the given index\n",
    "print(\"Actually, I don't need water. I have some at home...\")\n",
    "water_index = groceries.index(\"water\")\n",
    "groceries.pop(water_index)\n",
    "print(groceries)"
   ]
  },
  {
   "cell_type": "code",
   "execution_count": 76,
   "id": "ab820cef-96c3-4562-a88b-293565593131",
   "metadata": {},
   "outputs": [
    {
     "name": "stdout",
     "output_type": "stream",
     "text": [
      "I'm going to pick up the last item on the list...\n",
      "['butter', 'eggs', 'gala apples', 'cinnamon']\n",
      "You continue on your journey purchasing groceries...\n"
     ]
    }
   ],
   "source": [
    "# Remove the last element of the list\n",
    "print(\"I'm going to pick up the last item on the list...\")\n",
    "groceries.pop(-1)\n",
    "print(groceries)\n",
    "print(\"You continue on your journey purchasing groceries...\")"
   ]
  },
  {
   "cell_type": "code",
   "execution_count": 78,
   "id": "1da5d86c-0fe9-4f1b-ab6a-1ad76f7f89e3",
   "metadata": {},
   "outputs": [
    {
     "data": {
      "text/plain": [
       "['butter', 'eggs', 'gala apples', 'cinnamon', 'butter']"
      ]
     },
     "execution_count": 78,
     "metadata": {},
     "output_type": "execute_result"
    }
   ],
   "source": [
    "groceries.append('butter')\n",
    "groceries"
   ]
  },
  {
   "cell_type": "code",
   "execution_count": 79,
   "id": "f326bf7b-ce4d-4a13-a4d8-db26e62eb60a",
   "metadata": {},
   "outputs": [
    {
     "data": {
      "text/plain": [
       "['eggs', 'gala apples', 'cinnamon', 'butter']"
      ]
     },
     "execution_count": 79,
     "metadata": {},
     "output_type": "execute_result"
    }
   ],
   "source": [
    "groceries.remove('butter')\n",
    "groceries"
   ]
  },
  {
   "cell_type": "markdown",
   "id": "a6a62775-fe2a-4731-8ec2-5359036583f9",
   "metadata": {},
   "source": [
    "## List Iteration"
   ]
  },
  {
   "cell_type": "code",
   "execution_count": 80,
   "id": "d48a7e5f-12ff-47db-9011-aff85a8f82a3",
   "metadata": {},
   "outputs": [
    {
     "name": "stdout",
     "output_type": "stream",
     "text": [
      "22\n",
      "10\n",
      "30\n",
      "45\n",
      "54\n",
      "60\n",
      "56\n"
     ]
    }
   ],
   "source": [
    "# Initialize the metric variables\n",
    "count = 0\n",
    "total = 0\n",
    "average = 0\n",
    "minimum = 0\n",
    "maximum = 0\n",
    "\n",
    "# List of daily tips\n",
    "cash_tips = [22, 10, 30, 45, 54, 60, 56]\n",
    "\n",
    "# Showcase every tip in the list\n",
    "for tip in cash_tips:\n",
    "    print(tip)"
   ]
  },
  {
   "cell_type": "code",
   "execution_count": 81,
   "id": "2ed1989c-7938-491d-8a91-c6712375c8d5",
   "metadata": {},
   "outputs": [
    {
     "name": "stdout",
     "output_type": "stream",
     "text": [
      "---------Summary Statistics----------\n",
      "Number of Days: 7\n",
      "Total Tips: 277\n",
      "Daily Average: 39.57\n",
      "Least Amount of Tips: 10\n",
      "Maximum Amount of Tips: 60\n"
     ]
    }
   ],
   "source": [
    "# Iterate over each element of the list to determine metrics\n",
    "for tip in cash_tips:\n",
    "\n",
    "    # Cumulatively sum up the total and count of tips\n",
    "    total += tip # total = total + tip\n",
    "    count += 1\n",
    "\n",
    "    # Logic to determine minimum values\n",
    "    if minimum == 0:\n",
    "        minimum = tip\n",
    "    elif tip < minimum:\n",
    "        minimum = tip\n",
    "        \n",
    "    # Logic to determine maximum values        \n",
    "    if tip > maximum:\n",
    "        maximum = tip\n",
    "\n",
    "# Calculate the average\n",
    "average = round(total / count, 2)\n",
    "# Print out the summary statistics\n",
    "print(\"---------Summary Statistics----------\")\n",
    "print(f\"Number of Days: {count}\")\n",
    "print(f\"Total Tips: {total}\")\n",
    "print(f\"Daily Average: {average}\")\n",
    "print(f\"Least Amount of Tips: {minimum}\")\n",
    "print(f\"Maximum Amount of Tips: {maximum}\")"
   ]
  },
  {
   "cell_type": "code",
   "execution_count": 85,
   "id": "3cc80989-8c63-4d24-8cc6-32be26d948a9",
   "metadata": {},
   "outputs": [
    {
     "data": {
      "text/plain": [
       "10"
      ]
     },
     "execution_count": 85,
     "metadata": {},
     "output_type": "execute_result"
    }
   ],
   "source": [
    "min(cash_tips)"
   ]
  },
  {
   "cell_type": "markdown",
   "id": "b530045a-585a-4e94-a2cd-0377b1b0dab5",
   "metadata": {},
   "source": [
    "## Student List Iteration"
   ]
  },
  {
   "cell_type": "code",
   "execution_count": 86,
   "id": "09976d0f-a3e7-446d-8879-5b8283f504a9",
   "metadata": {},
   "outputs": [
    {
     "name": "stdout",
     "output_type": "stream",
     "text": [
      "---------Summary Statistics----------\n",
      "Number of Total Days: 20\n",
      "Number of Profitable Days: 13\n",
      "Number of Unprofitable Days: 7\n",
      "Percentage of Profitable Days: 65.0%\n",
      "Percentage of Unprofitable Days: 35.0%\n",
      "-------------------------------------\n",
      "Profitable Days: [352, 252, 354, 56, 123, 254, 325, 47, 321, 123, 133, 613, 232]\n",
      "Unprofitable Days: [-224, -544, -650, -43, -123, -151, -311]\n",
      "-------------------------------------\n",
      "Total Profits/Losses: 1139\n",
      "Daily Average: 56.95\n",
      "Worst Loss: -650\n",
      "Best Gain: 613\n"
     ]
    }
   ],
   "source": [
    "# Initialize the metric variables\n",
    "count = 0\n",
    "total = 0\n",
    "average = 0\n",
    "minimum = 0\n",
    "maximum = 0\n",
    "\n",
    "# Initialize lists to hold profitable and unprofitable day profits/losses\n",
    "profitable_days = []\n",
    "unprofitable_days = []\n",
    "\n",
    "# List of trading profits/losses\n",
    "trading_pnl = [ -224,  352, 252, 354, -544,\n",
    "                -650,   56, 123, -43,  254,\n",
    "                 325, -123,  47, 321,  123,\n",
    "                 133, -151, 613, 232, -311 ]\n",
    "\n",
    "# Iterate over each element of the list\n",
    "for day_pnl in trading_pnl:\n",
    "\n",
    "    # Cumulatively sum up the total profits/losses and count of trading days\n",
    "    total += day_pnl\n",
    "    count += 1\n",
    "\n",
    "    # Logic to determine minimum and maximum values\n",
    "    if minimum == 0:\n",
    "        minimum = day_pnl\n",
    "    elif day_pnl < minimum:\n",
    "        minimum = day_pnl\n",
    "    elif day_pnl > maximum:\n",
    "        maximum = day_pnl\n",
    "\n",
    "    # Logic to determine profitable vs. unprofitable days\n",
    "    if day_pnl > 0:\n",
    "        profitable_days.append(day_pnl)\n",
    "    elif day_pnl <= 0:\n",
    "        unprofitable_days.append(day_pnl)\n",
    "\n",
    "# Calculate the average\n",
    "average = round(total / count, 2)\n",
    "\n",
    "# Count metrics\n",
    "profitable_count = len(profitable_days)\n",
    "unprofitable_count = len(unprofitable_days)\n",
    "\n",
    "# Percentage metrics\n",
    "percent_profitable = profitable_count / count * 100\n",
    "percent_unprofitable = unprofitable_count / count * 100\n",
    "\n",
    "# Print out the summary statistics\n",
    "print(\"---------Summary Statistics----------\")\n",
    "print(f\"Number of Total Days: {count}\")\n",
    "print(f\"Number of Profitable Days: {profitable_count}\")\n",
    "print(f\"Number of Unprofitable Days: {unprofitable_count}\")\n",
    "print(f\"Percentage of Profitable Days: {percent_profitable}%\")\n",
    "print(f\"Percentage of Unprofitable Days: {percent_unprofitable}%\")\n",
    "print(\"-------------------------------------\")\n",
    "print(f\"Profitable Days: {profitable_days}\")\n",
    "print(f\"Unprofitable Days: {unprofitable_days}\")\n",
    "print(\"-------------------------------------\")\n",
    "print(f\"Total Profits/Losses: {total}\")\n",
    "print(f\"Daily Average: {average}\")\n",
    "print(f\"Worst Loss: {minimum}\")\n",
    "print(f\"Best Gain: {maximum}\")"
   ]
  },
  {
   "cell_type": "markdown",
   "id": "c090f160-98cc-4551-bdc4-c216c14694c2",
   "metadata": {},
   "source": [
    "## Dictionaries"
   ]
  },
  {
   "cell_type": "code",
   "execution_count": 87,
   "id": "8437eb31-59a3-4398-aec9-d690bd7515a8",
   "metadata": {},
   "outputs": [
    {
     "name": "stdout",
     "output_type": "stream",
     "text": [
      "Dictionary: {'january': 'Karen', 'february': 'Harold', 'march': 'Sam'}\n"
     ]
    }
   ],
   "source": [
    "# Initialize a dictionary containing top traders for each month in 2019\n",
    "top_traders_2019 = {\n",
    "    \"january\" : \"Karen\",\n",
    "    \"february\" : \"Harold\",\n",
    "    \"march\" : \"Sam\"\n",
    "}\n",
    "print(f\"Dictionary: {top_traders_2019}\")"
   ]
  },
  {
   "cell_type": "code",
   "execution_count": 88,
   "id": "29fad592-5cb9-491c-8381-b6bd7ea8395e",
   "metadata": {},
   "outputs": [
    {
     "name": "stdout",
     "output_type": "stream",
     "text": [
      "Dictionary: {'title': 'Trading Log', '03-18-2019': -224, '03-19-2019': 352, '03-20-2019': 252, '03-21-2019': 354, '03-22-2019': -544, '03-23-2019': -650, '03-24-2019': 56, '03-25-2019': 123, '03-26-2019': -43, '03-27-2019': 254, '03-28-2019': 325, '03-29-2019': -123, '03-30-2019': 47, '03-31-2019': 321, '04-01-2019': 123, '04-02-2019': 133, '04-03-2019': -151, '04-04-2019': 613, '04-05-2019': 232, '04-06-2019': -311}\n"
     ]
    }
   ],
   "source": [
    "# Initialize a dictionary\n",
    "trading_pnl = {\n",
    "    \"title\": \"Trading Log\",\n",
    "    \"03-18-2019\": -224,\n",
    "    \"03-19-2019\": 352,\n",
    "    \"03-20-2019\": 252,\n",
    "    \"03-21-2019\": 354,\n",
    "    \"03-22-2019\": -544,\n",
    "    \"03-23-2019\": -650,\n",
    "    \"03-24-2019\": 56,\n",
    "    \"03-25-2019\": 123,\n",
    "    \"03-26-2019\": -43,\n",
    "    \"03-27-2019\": 254,\n",
    "    \"03-28-2019\": 325,\n",
    "    \"03-29-2019\": -123,\n",
    "    \"03-30-2019\": 47,\n",
    "    \"03-31-2019\": 321,\n",
    "    \"04-01-2019\": 123,\n",
    "    \"04-02-2019\": 133,\n",
    "    \"04-03-2019\": -151,\n",
    "    \"04-04-2019\": 613,\n",
    "    \"04-05-2019\": 232,\n",
    "    \"04-06-2019\": -311\n",
    "}\n",
    "\n",
    "# Print out dictionary, initial print() to serve as spacing between command line input\n",
    "print(f\"Dictionary: {trading_pnl}\")"
   ]
  },
  {
   "cell_type": "code",
   "execution_count": 90,
   "id": "4bb239e1-4f9d-4688-a2ff-af59bbb43dca",
   "metadata": {},
   "outputs": [
    {
     "data": {
      "text/plain": [
       "321"
      ]
     },
     "execution_count": 90,
     "metadata": {},
     "output_type": "execute_result"
    }
   ],
   "source": [
    "trading_pnl['03-31-2019']"
   ]
  },
  {
   "cell_type": "code",
   "execution_count": 32,
   "id": "9078fb68-5269-4edb-ad3f-170e993d5e89",
   "metadata": {},
   "outputs": [
    {
     "name": "stdout",
     "output_type": "stream",
     "text": [
      "03-31-2019: 321\n"
     ]
    }
   ],
   "source": [
    "# Print out specific value of a key\n",
    "print(f\"03-31-2019: {trading_pnl['03-31-2019']}\")"
   ]
  },
  {
   "cell_type": "code",
   "execution_count": 92,
   "id": "80eb21aa-1d13-4ba3-bcbf-6d645b67a3eb",
   "metadata": {},
   "outputs": [],
   "source": [
    "groceries[2] = 'bread'"
   ]
  },
  {
   "cell_type": "code",
   "execution_count": 91,
   "id": "72470518-799d-4f17-b482-9947ccf611d4",
   "metadata": {},
   "outputs": [
    {
     "name": "stdout",
     "output_type": "stream",
     "text": [
      "{'title': 'Trading Log', '03-18-2019': -224, '03-19-2019': 352, '03-20-2019': 252, '03-21-2019': 354, '03-22-2019': -544, '03-23-2019': -650, '03-24-2019': 56, '03-25-2019': 123, '03-26-2019': -43, '03-27-2019': 254, '03-28-2019': 325, '03-29-2019': -123, '03-30-2019': 47, '03-31-2019': 321, '04-01-2019': 123, '04-02-2019': 133, '04-03-2019': -151, '04-04-2019': 613, '04-05-2019': 232, '04-06-2019': -311, '04-07-2019': 413}\n"
     ]
    }
   ],
   "source": [
    "# Add a new key-value pair\n",
    "trading_pnl[\"04-07-2019\"] = 413\n",
    "print(trading_pnl)"
   ]
  },
  {
   "cell_type": "code",
   "execution_count": 93,
   "id": "f0d80422-373e-4185-b44f-97529915fb0f",
   "metadata": {},
   "outputs": [
    {
     "name": "stdout",
     "output_type": "stream",
     "text": [
      "{'title': 'Trading Log', '03-18-2019': -224, '03-19-2019': 352, '03-20-2019': 252, '03-21-2019': 354, '03-22-2019': -544, '03-23-2019': -650, '03-24-2019': 56, '03-25-2019': 123, '03-26-2019': -43, '03-27-2019': 254, '03-28-2019': 325, '03-29-2019': -123, '03-30-2019': 47, '03-31-2019': 321, '04-01-2019': 123, '04-02-2019': 133, '04-03-2019': -151, '04-04-2019': 613, '04-05-2019': 232, '04-06-2019': -311, '04-07-2019': 542}\n"
     ]
    }
   ],
   "source": [
    "# Modify a key value\n",
    "trading_pnl[\"04-07-2019\"] = 542\n",
    "print(trading_pnl)"
   ]
  },
  {
   "cell_type": "code",
   "execution_count": 94,
   "id": "88df135b-0e7d-4507-9b03-6dd2174c8e59",
   "metadata": {},
   "outputs": [
    {
     "name": "stdout",
     "output_type": "stream",
     "text": [
      "{'title': 'Trading Log', '03-18-2019': -224, '03-19-2019': 352, '03-20-2019': 252, '03-21-2019': 354, '03-22-2019': -544, '03-23-2019': -650, '03-24-2019': 56, '03-25-2019': 123, '03-26-2019': -43, '03-27-2019': 254, '03-28-2019': 325, '03-29-2019': -123, '03-30-2019': 47, '03-31-2019': 321, '04-01-2019': 123, '04-02-2019': 133, '04-03-2019': -151, '04-04-2019': 613, '04-05-2019': 232, '04-06-2019': -311}\n"
     ]
    }
   ],
   "source": [
    "# Delete a key-value pair\n",
    "del trading_pnl[\"04-07-2019\"]\n",
    "print(trading_pnl)"
   ]
  },
  {
   "cell_type": "code",
   "execution_count": 36,
   "id": "ee570049-2dfc-4819-8061-7fd1e70caf20",
   "metadata": {},
   "outputs": [
    {
     "name": "stdout",
     "output_type": "stream",
     "text": [
      "Yes, '04-03-2019' is one of the keys in the trading_pnl dictionary\n"
     ]
    }
   ],
   "source": [
    "# Check if key exists\n",
    "if \"04-03-2019\" in trading_pnl:\n",
    "    print(\"Yes, '04-03-2019' is one of the keys in the trading_pnl dictionary\")"
   ]
  },
  {
   "cell_type": "code",
   "execution_count": 37,
   "id": "e2906014-7f23-4843-908d-109b5c4d8fa8",
   "metadata": {},
   "outputs": [
    {
     "name": "stdout",
     "output_type": "stream",
     "text": [
      "Key: title\n",
      "Key: 03-18-2019\n",
      "Key: 03-19-2019\n",
      "Key: 03-20-2019\n",
      "Key: 03-21-2019\n",
      "Key: 03-22-2019\n",
      "Key: 03-23-2019\n",
      "Key: 03-24-2019\n",
      "Key: 03-25-2019\n",
      "Key: 03-26-2019\n",
      "Key: 03-27-2019\n",
      "Key: 03-28-2019\n",
      "Key: 03-29-2019\n",
      "Key: 03-30-2019\n",
      "Key: 03-31-2019\n",
      "Key: 04-01-2019\n",
      "Key: 04-02-2019\n",
      "Key: 04-03-2019\n",
      "Key: 04-04-2019\n",
      "Key: 04-05-2019\n",
      "Key: 04-06-2019\n"
     ]
    }
   ],
   "source": [
    "# Print out dict keys via a for loop\n",
    "for key in trading_pnl:\n",
    "    print(f\"Key: {key}\")"
   ]
  },
  {
   "cell_type": "code",
   "execution_count": 38,
   "id": "1d29f714-c18a-4b74-bfaa-b3c7de08a1a8",
   "metadata": {},
   "outputs": [
    {
     "name": "stdout",
     "output_type": "stream",
     "text": [
      "Value: Trading Log\n",
      "Value: -224\n",
      "Value: 352\n",
      "Value: 252\n",
      "Value: 354\n",
      "Value: -544\n",
      "Value: -650\n",
      "Value: 56\n",
      "Value: 123\n",
      "Value: -43\n",
      "Value: 254\n",
      "Value: 325\n",
      "Value: -123\n",
      "Value: 47\n",
      "Value: 321\n",
      "Value: 123\n",
      "Value: 133\n",
      "Value: -151\n",
      "Value: 613\n",
      "Value: 232\n",
      "Value: -311\n"
     ]
    }
   ],
   "source": [
    "# Print out dict values\n",
    "for key in trading_pnl:\n",
    "    print(f\"Value: {trading_pnl[key]}\")"
   ]
  },
  {
   "cell_type": "code",
   "execution_count": 95,
   "id": "e914a8b5-4ee3-45de-83f3-3ae7045ab304",
   "metadata": {},
   "outputs": [
    {
     "name": "stdout",
     "output_type": "stream",
     "text": [
      "Key: title Value: Trading Log\n",
      "Key: 03-18-2019 Value: -224\n",
      "Key: 03-19-2019 Value: 352\n",
      "Key: 03-20-2019 Value: 252\n",
      "Key: 03-21-2019 Value: 354\n",
      "Key: 03-22-2019 Value: -544\n",
      "Key: 03-23-2019 Value: -650\n",
      "Key: 03-24-2019 Value: 56\n",
      "Key: 03-25-2019 Value: 123\n",
      "Key: 03-26-2019 Value: -43\n",
      "Key: 03-27-2019 Value: 254\n",
      "Key: 03-28-2019 Value: 325\n",
      "Key: 03-29-2019 Value: -123\n",
      "Key: 03-30-2019 Value: 47\n",
      "Key: 03-31-2019 Value: 321\n",
      "Key: 04-01-2019 Value: 123\n",
      "Key: 04-02-2019 Value: 133\n",
      "Key: 04-03-2019 Value: -151\n",
      "Key: 04-04-2019 Value: 613\n",
      "Key: 04-05-2019 Value: 232\n",
      "Key: 04-06-2019 Value: -311\n"
     ]
    }
   ],
   "source": [
    "# Print out dict key-value pairs\n",
    "for key, value in trading_pnl.items():\n",
    "    print(f\"Key: {key} Value: {value}\")"
   ]
  },
  {
   "cell_type": "markdown",
   "id": "1482eb4b-6f87-4941-b87e-a89b9daeaa6a",
   "metadata": {},
   "source": [
    "## Student Dictionaries"
   ]
  },
  {
   "cell_type": "code",
   "execution_count": 40,
   "id": "b163a680-3535-4a32-844f-2556fe941e5e",
   "metadata": {},
   "outputs": [],
   "source": [
    "# Initialize a dictionary of banks and market caps (in billions)\n",
    "banks = {\n",
    "    \"JP Morgan Chase\": 327,\n",
    "    \"Bank of America\": 302,\n",
    "    \"Citigroup\": 173,\n",
    "    \"Wells Fargo\": 273,\n",
    "    \"Goldman Sachs\": 87,\n",
    "    \"Morgan Stanley\": 72,\n",
    "    \"U.S. Bancorp\": 83,\n",
    "    \"TD Bank\": 108,\n",
    "    \"PNC Financial Services\": 67,\n",
    "    \"Capital One\": 47,\n",
    "    \"FNB Corporation\": 4,\n",
    "    \"First Hawaiian Bank\": 3,\n",
    "    \"Ally Financial\": 12,\n",
    "    \"Wachovia\": 145,\n",
    "    \"Republic Bancorp\": .97\n",
    "}\n",
    "\n",
    "# Change the market cap for 'Citigroup'\n",
    "banks['Citigroup'] = 170\n",
    "\n",
    "# Add a new bank and market cap pair\n",
    "banks['American Express'] = 33\n",
    "\n",
    "# Remove a bank from the dictionary\n",
    "del banks['Wachovia']\n",
    "\n",
    "# Initialize metric variables\n",
    "total_market_cap = 0\n",
    "bank_count = 0\n",
    "average = 0\n",
    "\n",
    "# Initialize minimum key-value pair\n",
    "minimum_key = \"\"\n",
    "minimum_value = 0\n",
    "\n",
    "# Initialize maximum key-value pair\n",
    "maximum_key = \"\"\n",
    "maximum_value = 0"
   ]
  },
  {
   "cell_type": "code",
   "execution_count": 96,
   "id": "3a149b9e-6b50-49a4-b5b4-9533d3117191",
   "metadata": {},
   "outputs": [
    {
     "name": "stdout",
     "output_type": "stream",
     "text": [
      "Name: JP Morgan Chase | Market Cap: 327\n",
      "Name: Bank of America | Market Cap: 302\n",
      "Name: Citigroup | Market Cap: 170\n",
      "Name: Wells Fargo | Market Cap: 273\n",
      "Name: Goldman Sachs | Market Cap: 87\n",
      "Name: Morgan Stanley | Market Cap: 72\n",
      "Name: U.S. Bancorp | Market Cap: 83\n",
      "Name: TD Bank | Market Cap: 108\n",
      "Name: PNC Financial Services | Market Cap: 67\n",
      "Name: Capital One | Market Cap: 47\n",
      "Name: FNB Corporation | Market Cap: 4\n",
      "Name: First Hawaiian Bank | Market Cap: 3\n",
      "Name: Ally Financial | Market Cap: 12\n",
      "Name: Republic Bancorp | Market Cap: 0.97\n",
      "Name: American Express | Market Cap: 33\n",
      "Total Market Capitalization: 3176\n",
      "Total Numer of Banks: 30\n",
      "Average Market Capitalization: 105.87\n",
      "Largest Bank: JP Morgan Chase\n",
      "Smallest Bank: Republic Bancorp\n",
      "------------------------------------------------\n",
      "Mega Cap Banks: ['JP Morgan Chase', 'Bank of America']\n",
      "Large Cap Banks: ['Citigroup', 'Wells Fargo', 'Goldman Sachs', 'Morgan Stanley', 'U.S. Bancorp', 'TD Bank', 'PNC Financial Services', 'Capital One', 'Ally Financial', 'American Express']\n",
      "Mid Cap Banks: ['FNB Corporation', 'First Hawaiian Bank']\n",
      "Small Cap Banks: ['Republic Bancorp']\n"
     ]
    }
   ],
   "source": [
    "# Mega Cap: Firms with a market capitalization greater than or equal to $300 billion.\n",
    "# Large Cap: Firms with a market capitalization greater than or equal to $10 billion and less than $300 billion.\n",
    "# Mid Cap: A market capitalization greater than or equal to $2 and less than $10 billion.\n",
    "# Small Cap: A market capitalization greater than or equal to $300 million and less than $2 billion.\n",
    "\n",
    "# Initialize market cap lists\n",
    "mega_caps = []\n",
    "large_caps = []\n",
    "mid_caps = []\n",
    "small_caps = []\n",
    "\n",
    "# Iterate over key-value pairs of the dictionary\n",
    "for bank_name, market_cap in banks.items():\n",
    "    print(f\"Name: {bank_name} | Market Cap: {market_cap}\")\n",
    "\n",
    "    # Calculate sum of market caps and number of banks in the dictionary\n",
    "    total_market_cap += int(market_cap)\n",
    "    bank_count += 1\n",
    "\n",
    "    # Logic to determine min value and associated key\n",
    "    if minimum_value == 0:\n",
    "        minimum_value = market_cap\n",
    "        minimum_key = bank_name\n",
    "    elif market_cap < minimum_value:\n",
    "        minimum_value = market_cap\n",
    "        minimum_key = bank_name\n",
    "\n",
    "    # Logic to determine max value and associated key\n",
    "    if market_cap > maximum_value:\n",
    "        maximum_value = market_cap\n",
    "        maximum_key = bank_name\n",
    "\n",
    "    # Group banks by categories of market caps\n",
    "    if market_cap >= 300:\n",
    "        mega_caps.append(bank_name)\n",
    "    elif market_cap >= 10 and market_cap < 300:\n",
    "        large_caps.append(bank_name)\n",
    "    elif market_cap >= 2 and market_cap < 10:\n",
    "        mid_caps.append(bank_name)\n",
    "    elif market_cap < 2:\n",
    "        small_caps.append(bank_name)\n",
    "# Calculate average market cap of banks in the dictionary\n",
    "avg_market_cap = round(total_market_cap / bank_count, 2)\n",
    "\n",
    "# Print the metrics\n",
    "print(f\"Total Market Capitalization: {total_market_cap}\")\n",
    "print(f\"Total Numer of Banks: {bank_count}\")\n",
    "print(f\"Average Market Capitalization: {avg_market_cap}\")\n",
    "print(f\"Largest Bank: {maximum_key}\")\n",
    "print(f\"Smallest Bank: {minimum_key}\")\n",
    "print(\"------------------------------------------------\")\n",
    "print(f\"Mega Cap Banks: {mega_caps}\")\n",
    "print(f\"Large Cap Banks: {large_caps}\")\n",
    "print(f\"Mid Cap Banks: {mid_caps}\")\n",
    "print(f\"Small Cap Banks: {small_caps}\")"
   ]
  },
  {
   "cell_type": "markdown",
   "id": "fc0a7f6b-3380-4207-b1e3-cc1414baaaec",
   "metadata": {},
   "source": [
    "## Nesting"
   ]
  },
  {
   "cell_type": "code",
   "execution_count": 98,
   "id": "b58c25ba-9615-48ad-ab3d-3ac238e8c49f",
   "metadata": {},
   "outputs": [
    {
     "data": {
      "text/plain": [
       "'Jeff Bezos'"
      ]
     },
     "execution_count": 98,
     "metadata": {},
     "output_type": "execute_result"
    }
   ],
   "source": [
    "# List of Dicts\n",
    "ceo_nested_dict = [\n",
    "    {\n",
    "        \"name\": \"Warren Buffet\",\n",
    "        \"age\": 88,\n",
    "        \"occupation\": \"CEO of Berkshire Hathaway\"\n",
    "    },\n",
    "    {\n",
    "        \"name\": \"Jeff Bezos\",\n",
    "        \"age\": 55,\n",
    "        \"occupation\": \"CEO of Amazon\"\n",
    "    },\n",
    "    {\n",
    "        \"name\": \"Harry Markowitz\",\n",
    "        \"age\": 91,\n",
    "        \"occupation\": \"Professor of Finance\"\n",
    "    }\n",
    "]\n",
    "\n",
    "# Retrieve second entry\n",
    "second_entry = ceo_nested_dict[1]\n",
    "second_entry\n",
    "\n",
    "ceo_nested_dict[1]['name']\n",
    "\n",
    "# # Retrieve name, age, and occupation of the second dict entry\n",
    "# second_entry_name = ceo_nested_dict[1][\"name\"]\n",
    "# second_entry_age = ceo_nested_dict[1][\"age\"]\n",
    "# second_entry_occupation = ceo_nested_dict[1][\"occupation\"]\n",
    "\n",
    "# # Print results to the screen\n",
    "# print(f\"The second entry in ceo_nested_dict is {second_entry_name}, a {second_entry_age} year old {second_entry_occupation}.\")"
   ]
  },
  {
   "cell_type": "code",
   "execution_count": 44,
   "id": "f19588c6-9808-4cc1-8c0e-db22c7f53380",
   "metadata": {},
   "outputs": [
    {
     "name": "stdout",
     "output_type": "stream",
     "text": [
      "APPL ticker stands for Apple. APPL stock price is currently 101.32, and it is available on NASDAQ.\n"
     ]
    }
   ],
   "source": [
    "# Dict\n",
    "stocks_dict = {\n",
    "    \"APPL\": 101.32,\n",
    "    \"MU\": 43.4,\n",
    "    \"AMD\": 23.12,\n",
    "    \"TWTR\": 25\n",
    "}\n",
    "\n",
    "# Dictionary of Lists\n",
    "stocks_nested_list = {\n",
    "    \"APPL\": [\"Apple\", 101.32, \"NASDAQ\", 937.7],\n",
    "    \"MU\": [\"Micron Technology\", 32.12, \"NASDAQ\", 48.03],\n",
    "    \"AMD\": [\"Advanced Micro Devices\", 23.12, \"NASDAQ\", 29.94],\n",
    "    \"TWTR\": [\"Twitter\", 34.40, \"NASDAQ\", 26.42]\n",
    "}\n",
    "\n",
    "# Retrieve entry for APPL\n",
    "appl_entry = stocks_nested_list[\"APPL\"]\n",
    "\n",
    "# Retrieve name, stock_price, and exchange for APPL entry\n",
    "appl_name = stocks_nested_list[\"APPL\"][0]\n",
    "appl_stock_price = stocks_nested_list[\"APPL\"][1]\n",
    "appl_exchange = stocks_nested_list[\"APPL\"][2]\n",
    "\n",
    "# Print results to screen\n",
    "print(f\"APPL ticker stands for {appl_name}. APPL stock price is currently {appl_stock_price}, and it is available on {appl_exchange}.\")"
   ]
  },
  {
   "cell_type": "markdown",
   "id": "75266342-7176-483d-97b3-3fd63bb93c09",
   "metadata": {},
   "source": [
    "## Students Nesting"
   ]
  },
  {
   "cell_type": "code",
   "execution_count": 46,
   "id": "5a8b0e65-a89d-49d7-97e0-35d82fa16e4c",
   "metadata": {},
   "outputs": [
    {
     "name": "stdout",
     "output_type": "stream",
     "text": [
      "{'AAPL': [['04-17-2019', 199.54, 203.38, 198.61, 203.13], ['04-18-2019', 199.46, 201.37, 198.56, 199.25], ['04-19-2019', 198.58, 199.85, 198.01, 199.23], ['04-20-2019', 199.2, 200.14, 196.21, 198.87], ['04-21-2019', 200.85, 201.0, 198.44, 198.95], ['04-21-2019', 200.85, 201.0, 198.44, 198.95]], 'MU': [['04-17-2019', 43.2, 43.53, 42.79, 43.4], ['04-18-2019', 43.36, 44.05, 42.76, 43.15], ['04-19-2019', 42.26, 42.93, 42.08, 42.76], ['04-20-2019', 42.17, 42.23, 41.2, 41.82], ['04-21-2019', 42.85, 43.2, 41.81, 42.01], ['04-21-2019', 42.85, 43.2, 41.81, 42.01]], 'AMD': [['04-17-2019', 27.6, 27.88, 27.34, 27.68], ['04-18-2019', 28.21, 28.27, 27.22, 27.49], ['04-19-2019', 27.72, 28.18, 27.49, 27.93], ['04-20-2019', 27.8, 27.84, 26.96, 27.33], ['04-21-2019', 28.21, 28.38, 27.66, 27.85], ['04-21-2019', 28.21, 28.38, 27.66, 27.85]], 'TWTR': [['04-17-2019', 34.67, 34.86, 34.32, 34.4], ['04-18-2019', 34.73, 34.9, 34.2, 34.48], ['04-19-2019', 34.84, 34.99, 34.23, 34.46], ['04-20-2019', 34.38, 35.03, 34.34, 34.71], ['04-21-2019', 34.67, 34.83, 34.11, 34.37], ['04-21-2019', 34.67, 34.83, 34.11, 34.37]]}\n"
     ]
    }
   ],
   "source": [
    "# Dictionary of List of Lists\n",
    "# Key: Stock Ticker | Value: List of Records\n",
    "# Record: Date, Open, High, Low, Close\n",
    "historical_stock_data = {\n",
    "    \"AAPL\": [\n",
    "        [\"04-17-2019\", 199.54, 203.38, 198.61, 203.13],\n",
    "        [\"04-18-2019\", 199.46, 201.37, 198.56, 199.25],\n",
    "        [\"04-19-2019\", 198.58, 199.85, 198.01, 199.23],\n",
    "        [\"04-20-2019\", 199.20, 200.14, 196.21, 198.87],\n",
    "\n",
    "    ],\n",
    "    \"MU\": [\n",
    "        [\"04-17-2019\", 43.20, 43.53, 42.79, 43.40],\n",
    "        [\"04-18-2019\", 43.36, 44.05, 42.76, 43.15],\n",
    "        [\"04-19-2019\", 42.26, 42.93, 42.08, 42.76],\n",
    "        [\"04-20-2019\", 42.17, 42.23, 41.20, 41.82],\n",
    "\n",
    "    ],\n",
    "    \"AMD\": [\n",
    "        [\"04-17-2019\", 27.60, 27.88, 27.34, 27.68],\n",
    "        [\"04-18-2019\", 28.21, 28.27, 27.22, 27.49],\n",
    "        [\"04-19-2019\", 27.72, 28.18, 27.49, 27.93],\n",
    "        [\"04-20-2019\", 27.80, 27.84, 26.96, 27.33],\n",
    "\n",
    "    ],\n",
    "    \"TWTR\": [\n",
    "        [\"04-17-2019\", 34.67, 34.86, 34.32, 34.40],\n",
    "        [\"04-18-2019\", 34.73, 34.90, 34.20, 34.48],\n",
    "        [\"04-19-2019\", 34.84, 34.99, 34.23, 34.46],\n",
    "        [\"04-20-2019\", 34.38, 35.03, 34.34, 34.71],\n",
    "\n",
    "    ]\n",
    "}\n",
    "\n",
    "# Dictionary of Dictionary\n",
    "# Key: Stock Ticker | Value: Dictionary\n",
    "new_records = {\n",
    "    \"AAPL\": {\n",
    "        \"date\": \"04-21-2019\",\n",
    "        \"open\": 200.85,\n",
    "        \"high\": 201.00,\n",
    "        \"low\": 198.44,\n",
    "        \"close\": 198.95\n",
    "    },\n",
    "    \"MU\": {\n",
    "        \"date\": \"04-21-2019\",\n",
    "        \"open\": 42.85,\n",
    "        \"high\": 43.20,\n",
    "        \"low\": 41.81,\n",
    "        \"close\": 42.01\n",
    "    },\n",
    "    \"AMD\": {\n",
    "        \"date\": \"04-21-2019\",\n",
    "        \"open\": 28.21,\n",
    "        \"high\": 28.38,\n",
    "        \"low\": 27.66,\n",
    "        \"close\": 27.85\n",
    "    },\n",
    "    \"TWTR\": {\n",
    "        \"date\": \"04-21-2019\",\n",
    "        \"open\": 34.67,\n",
    "        \"high\": 34.83,\n",
    "        \"low\": 34.11,\n",
    "        \"close\": 34.37\n",
    "    }\n",
    "}\n",
    "\n",
    "# Set each ticker's new record: date, open, high, low, close\n",
    "new_aapl_record = [new_records['AAPL']['date'], new_records['AAPL']['open'], new_records['AAPL']['high'], new_records['AAPL']['low'], new_records['AAPL']['close']]\n",
    "new_mu_record = [new_records['MU']['date'], new_records['MU']['open'], new_records['MU']['high'], new_records['MU']['low'], new_records['MU']['close']]\n",
    "new_amd_record = [new_records['AMD']['date'], new_records['AMD']['open'], new_records['AMD']['high'], new_records['AMD']['low'], new_records['AMD']['close']]\n",
    "new_twtr_record = [new_records['TWTR']['date'], new_records['TWTR']['open'], new_records['TWTR']['high'], new_records['TWTR']['low'], new_records['TWTR']['close']]\n",
    "\n",
    "# Choice 1: Add a new round of entries to the 'historical_stock_data' dictionary\n",
    "historical_stock_data['AAPL'].append(new_aapl_record)\n",
    "historical_stock_data['MU'].append(new_mu_record)\n",
    "historical_stock_data['AMD'].append(new_amd_record)\n",
    "historical_stock_data['TWTR'].append(new_twtr_record)\n",
    "#print(historical_stock_data)\n",
    "\n",
    "# Choice 2: Add a new round of entries via for loop to the 'historical_stock_data' dictionary\n",
    "for ticker, ticker_data in new_records.items():\n",
    "    # Set the new record to be added in list format\n",
    "    record = [ticker_data['date'], ticker_data['open'], ticker_data['high'], ticker_data['low'], ticker_data['close']]\n",
    "    # Append the new record to the historical_stock_data dictionary\n",
    "    historical_stock_data[ticker].append(record)\n",
    "\n",
    "# Print out the modified 'historical_stock_data' dictionary\n",
    "print(historical_stock_data)"
   ]
  },
  {
   "cell_type": "code",
   "execution_count": 47,
   "id": "65a79cdb-3596-4012-9d6b-240491c2f056",
   "metadata": {},
   "outputs": [
    {
     "name": "stdout",
     "output_type": "stream",
     "text": [
      "-2.06\n",
      "-3.2\n",
      "0.61\n",
      "-0.09\n",
      "{'AAPL': -2.06, 'MU': -3.2, 'AMD': 0.61, 'TWTR': -0.09}\n"
     ]
    }
   ],
   "source": [
    "# Initialize 'results' dictionary to hold weekly change of each ticker\n",
    "results = {}\n",
    "\n",
    "# Calculate the weekly change of each stock ticker\n",
    "for ticker, ticker_data in historical_stock_data.items():\n",
    "\n",
    "    # Set closing prices of first and last records of each stock ticker\n",
    "    ending_week_close = ticker_data[-1][4]\n",
    "    beginning_week_close = ticker_data[0][4]\n",
    "\n",
    "    # Calculate weekly change per stock ticker\n",
    "    ticker_weekly_change = round((ending_week_close - beginning_week_close) / beginning_week_close * 100, 2)\n",
    "    print(ticker_weekly_change)\n",
    "\n",
    "    # Set the weekly change for every stock ticker in the 'results' dictionary\n",
    "    results[ticker] = ticker_weekly_change\n",
    "\n",
    "# Print out 'results' dictionary\n",
    "print(results)"
   ]
  },
  {
   "cell_type": "markdown",
   "id": "7c71782f-0231-4763-86a2-12f619ab9957",
   "metadata": {},
   "source": [
    "## Functions"
   ]
  },
  {
   "cell_type": "code",
   "execution_count": 99,
   "id": "3af8919f-fb0f-40ea-aaa9-95041caaff5a",
   "metadata": {},
   "outputs": [],
   "source": [
    "# Define a main function that prints \"Greetings!\" to the console\n",
    "def main():\n",
    "    print(\"Greetings!\")"
   ]
  },
  {
   "cell_type": "code",
   "execution_count": 100,
   "id": "c733d92a-2ddf-43de-a54b-fd83265cad7b",
   "metadata": {},
   "outputs": [
    {
     "name": "stdout",
     "output_type": "stream",
     "text": [
      "Greetings!\n"
     ]
    }
   ],
   "source": [
    "main()"
   ]
  },
  {
   "cell_type": "code",
   "execution_count": 101,
   "id": "468dc550-1202-40e8-831c-64438da68bdd",
   "metadata": {},
   "outputs": [
    {
     "name": "stdout",
     "output_type": "stream",
     "text": [
      "Greetings!\n"
     ]
    }
   ],
   "source": [
    "main()"
   ]
  },
  {
   "cell_type": "code",
   "execution_count": 102,
   "id": "42ad90c6-e382-4cff-8ebe-76598fb21b79",
   "metadata": {},
   "outputs": [],
   "source": [
    "# Define a main function that accepts a string argument\n",
    "def main(stock_ticker):\n",
    "    print(stock_ticker + \" is booming right now!\")"
   ]
  },
  {
   "cell_type": "code",
   "execution_count": 104,
   "id": "59e6d701-c465-4c03-bae2-2107cd462920",
   "metadata": {},
   "outputs": [
    {
     "name": "stdout",
     "output_type": "stream",
     "text": [
      "GOOG is booming right now!\n"
     ]
    }
   ],
   "source": [
    "main(\"GOOG\")"
   ]
  },
  {
   "cell_type": "code",
   "execution_count": 106,
   "id": "d6017839-2cab-4b36-bede-88cdae546bd5",
   "metadata": {},
   "outputs": [
    {
     "name": "stdout",
     "output_type": "stream",
     "text": [
      "SBUX Market Capitalization: 94588216000.0\n",
      "Data type of market_cap variable is: <class 'float'>\n"
     ]
    }
   ],
   "source": [
    "# Define a calculate_market_cap function, and then call it\n",
    "def calculate_market_cap(market_price, number_of_shares):\n",
    "    cap = market_price * number_of_shares\n",
    "\n",
    "    return cap\n",
    "\n",
    "stock_ticker = \"SBUX\"\n",
    "market_price = 76.06\n",
    "number_of_shares = 1243600000\n",
    "\n",
    "market_cap = calculate_market_cap(market_price, number_of_shares)\n",
    "print(f\"{stock_ticker} Market Capitalization: {market_cap}\")\n",
    "print(f\"Data type of market_cap variable is: {type(market_cap)}\")"
   ]
  },
  {
   "cell_type": "code",
   "execution_count": 109,
   "id": "2ae57711-0a0d-40d1-a7c3-59d1094a756b",
   "metadata": {},
   "outputs": [
    {
     "name": "stdout",
     "output_type": "stream",
     "text": [
      "Market Capitalization: 94588216000.0\n",
      "Data type of market_cap variable is: <class 'float'>\n"
     ]
    }
   ],
   "source": [
    "# Capture function output and print output value and data type\n",
    "def calculate_market_cap(market_price, number_of_shares):\n",
    "    cap = market_price * number_of_shares\n",
    "\n",
    "    return cap\n",
    "\n",
    "market_price = 76.06\n",
    "number_of_shares = 1243600000\n",
    "\n",
    "market_cap = calculate_market_cap(market_price, number_of_shares)\n",
    "print(f\"Market Capitalization: {market_cap}\")\n",
    "print(f\"Data type of market_cap variable is: {type(market_cap)}\")"
   ]
  },
  {
   "cell_type": "markdown",
   "id": "32db510c-b12a-435d-aacf-7ea7fbdaaf75",
   "metadata": {},
   "source": [
    "## Students Functions"
   ]
  },
  {
   "cell_type": "code",
   "execution_count": 111,
   "id": "d0193d8f-8437-4613-b607-22d9164f78d4",
   "metadata": {},
   "outputs": [
    {
     "name": "stdout",
     "output_type": "stream",
     "text": [
      "Compound Annual Growth Rate for 2016: 0.55%\n",
      "Compound Annual Growth Rate for 2016: 0.04%\n",
      "Compound Annual Growth Rate for 2016: 0.04%\n"
     ]
    }
   ],
   "source": [
    "# Declare a variable beginning_balance as a float\n",
    "beginning_balance = 29000.00\n",
    "\n",
    "# Declare a variable ending_balance as float\n",
    "ending_balance = 45000.10\n",
    "\n",
    "# Declare a variable years as an int\n",
    "years = 1.0\n",
    "\n",
    "# Define a function called calculate_compound_growth_rate with three arguments: beginning_balance, ending_balance, years. Function should output growth_rate.\n",
    "def calculate_compound_growth_rate(beginning_balance, ending_balance, years):\n",
    "    growth_rate = (ending_balance / beginning_balance)**(1/years) - 1\n",
    "    return growth_rate\n",
    "\n",
    "# Call calculate_compound_growth_rate using beginning_balance, ending_balance, and years. Capture as year_one_growth.\n",
    "year_one_growth = calculate_compound_growth_rate(beginning_balance, ending_balance, years)\n",
    "\n",
    "# Update beginning_balance and ending balance for year two, and then execute calculate_compound_growth_rate and capture as year_two_growth.\n",
    "beginning_balance = 45000.10\n",
    "ending_balance = 47000.00\n",
    "years = 1\n",
    "year_two_growth = calculate_compound_growth_rate(beginning_balance, ending_balance, years)\n",
    "\n",
    "# Update beginning_balance and ending balance for year three, and then execute calculate_compound_growth_rate and capture as year_three_growth.\n",
    "beginning_balance = 47000.00\n",
    "ending_balance = 48930.00\n",
    "years = 1\n",
    "year_three_growth = calculate_compound_growth_rate(beginning_balance, ending_balance, years)\n",
    "\n",
    "# Use round function to round variables\n",
    "year_one_growth_rnd = round(year_one_growth,2)\n",
    "year_two_growth_rnd = round(year_two_growth,2)\n",
    "year_three_growth_rnd = round(year_three_growth,2)\n",
    "\n",
    "print(f\"Compound Annual Growth Rate for 2016: {year_one_growth_rnd}%\")\n",
    "print(f\"Compound Annual Growth Rate for 2016: {year_two_growth_rnd}%\")\n",
    "print(f\"Compound Annual Growth Rate for 2016: {year_three_growth_rnd}%\")"
   ]
  },
  {
   "cell_type": "code",
   "execution_count": 56,
   "id": "cf48b103-222e-4c25-b0cb-872ace51735b",
   "metadata": {},
   "outputs": [
    {
     "name": "stdout",
     "output_type": "stream",
     "text": [
      "Growth rates:  [0.5517275862068964, 0.04444212346194787, 0.04106382978723411]\n"
     ]
    }
   ],
   "source": [
    "# Challenge\n",
    "# Create a global, empty list\n",
    "growth_rates = list()\n",
    "\n",
    "# Define a function called\n",
    "def calculate_compound_growth_rate_list(beginning_balance, ending_balance, years):\n",
    "    growth_rate = (ending_balance / beginning_balance)**(1/years) - 1\n",
    "\n",
    "    # Populate growth_rates\n",
    "    growth_rates.append(growth_rate)\n",
    "\n",
    "# Populate growth_rates list with 2016 values by calling calculate_compound_growth_rate_list.\n",
    "beginning_balance = 29000.00\n",
    "ending_balance = 45000.10\n",
    "calculate_compound_growth_rate_list(beginning_balance, ending_balance, years)\n",
    "\n",
    "# Populate growth_rates list with 2017 values by calling calculate_compound_growth_rate_list.\n",
    "beginning_balance = 45000.10\n",
    "ending_balance = 47000.00\n",
    "calculate_compound_growth_rate_list(beginning_balance, ending_balance, years)\n",
    "\n",
    "# Populate growth_rates list with 2018 values by calling calculate_compound_growth_rate_list.\n",
    "beginning_balance = 47000.00\n",
    "ending_balance = 48930.00\n",
    "calculate_compound_growth_rate_list(beginning_balance, ending_balance, years)\n",
    "\n",
    "# Print growth_rates list\n",
    "print(\"Growth rates: \", growth_rates)"
   ]
  },
  {
   "cell_type": "code",
   "execution_count": null,
   "id": "0482e081-36c1-4edd-ad35-d3be87869bbe",
   "metadata": {},
   "outputs": [],
   "source": []
  }
 ],
 "metadata": {
  "kernelspec": {
   "display_name": "Python 3 (ipykernel)",
   "language": "python",
   "name": "python3"
  },
  "language_info": {
   "codemirror_mode": {
    "name": "ipython",
    "version": 3
   },
   "file_extension": ".py",
   "mimetype": "text/x-python",
   "name": "python",
   "nbconvert_exporter": "python",
   "pygments_lexer": "ipython3",
   "version": "3.9.12"
  }
 },
 "nbformat": 4,
 "nbformat_minor": 5
}
