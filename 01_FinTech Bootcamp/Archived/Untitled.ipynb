{
 "cells": [
  {
   "cell_type": "code",
   "execution_count": 2,
   "id": "bac59580-c887-479c-ad15-358c05e0828e",
   "metadata": {},
   "outputs": [],
   "source": [
    "name = \"Jane\""
   ]
  },
  {
   "cell_type": "code",
   "execution_count": 3,
   "id": "02294b3c-d1c7-4c6e-a33a-63ddd3e3be6c",
   "metadata": {},
   "outputs": [
    {
     "data": {
      "text/plain": [
       "'Hello, Jane!'"
      ]
     },
     "execution_count": 3,
     "metadata": {},
     "output_type": "execute_result"
    }
   ],
   "source": [
    "\"Hello, %s!\" % name"
   ]
  },
  {
   "cell_type": "code",
   "execution_count": 5,
   "id": "59a06e00-4c20-42c1-9aca-2df163756558",
   "metadata": {},
   "outputs": [],
   "source": [
    "name = \"Jane\"\n",
    "age = 25"
   ]
  },
  {
   "cell_type": "code",
   "execution_count": 7,
   "id": "3d39ae9f-0f39-445b-b6c7-cf297883e53b",
   "metadata": {},
   "outputs": [
    {
     "data": {
      "text/plain": [
       "\"Hello, JANE! You're 25 years old.\""
      ]
     },
     "execution_count": 7,
     "metadata": {},
     "output_type": "execute_result"
    }
   ],
   "source": [
    "f\"Hello, {name.upper()}! You're {age} years old.\""
   ]
  },
  {
   "cell_type": "code",
   "execution_count": 8,
   "id": "ee4b8bb2-93c1-4e1d-ac3e-17302653632d",
   "metadata": {},
   "outputs": [
    {
     "data": {
      "text/plain": [
       "\"Jane! How's it going? You've been gone for 25 years!\""
      ]
     },
     "execution_count": 8,
     "metadata": {},
     "output_type": "execute_result"
    }
   ],
   "source": [
    "f\"{name}! How's it going? You've been gone for {age} years!\""
   ]
  },
  {
   "cell_type": "code",
   "execution_count": 9,
   "id": "815ff302-9a1c-4f37-8982-fcf8a42b65b9",
   "metadata": {},
   "outputs": [
    {
     "data": {
      "text/plain": [
       "'Balance: $25.00'"
      ]
     },
     "execution_count": 9,
     "metadata": {},
     "output_type": "execute_result"
    }
   ],
   "source": [
    " f\"Balance: ${age:.2f}\""
   ]
  },
  {
   "cell_type": "code",
   "execution_count": null,
   "id": "e81f6c2f-eeaa-4b09-841f-c3f42e4eab3e",
   "metadata": {},
   "outputs": [],
   "source": []
  }
 ],
 "metadata": {
  "kernelspec": {
   "display_name": "Python 3 (ipykernel)",
   "language": "python",
   "name": "python3"
  },
  "language_info": {
   "codemirror_mode": {
    "name": "ipython",
    "version": 3
   },
   "file_extension": ".py",
   "mimetype": "text/x-python",
   "name": "python",
   "nbconvert_exporter": "python",
   "pygments_lexer": "ipython3",
   "version": "3.11.5"
  }
 },
 "nbformat": 4,
 "nbformat_minor": 5
}
